{
 "cells": [
  {
   "cell_type": "markdown",
   "id": "0",
   "metadata": {},
   "source": [
    "## Testing calls to model server"
   ]
  },
  {
   "cell_type": "markdown",
   "id": "1",
   "metadata": {},
   "source": [
    "#### Setup for Seldom MLflow custom model server"
   ]
  },
  {
   "cell_type": "code",
   "execution_count": null,
   "id": "2",
   "metadata": {
    "lines_to_next_cell": 2
   },
   "outputs": [],
   "source": [
    "# Config for diabetes-model-server\n",
    "%env MODEL_SERVER_URL=http: // localhost:7000\n",
    "%env MODEL_NAME=mlflow-model"
   ]
  },
  {
   "cell_type": "code",
   "execution_count": null,
   "id": "3",
   "metadata": {},
   "outputs": [],
   "source": [
    "%%bash\n",
    "\n",
    "docker-compose up -d diabetes-model-server\n"
   ]
  },
  {
   "cell_type": "markdown",
   "id": "4",
   "metadata": {},
   "source": [
    "### Setup for Seldom mlserver"
   ]
  },
  {
   "cell_type": "code",
   "execution_count": null,
   "id": "5",
   "metadata": {},
   "outputs": [],
   "source": [
    "# Config for mlserver (Seldon.IO container)\n",
    "%env MODEL_SERVER_URL=http://localhost:8080\n",
    "%env MODEL_NAME=diabetes-model"
   ]
  },
  {
   "cell_type": "code",
   "execution_count": null,
   "id": "6",
   "metadata": {},
   "outputs": [],
   "source": [
    "%%bash\n",
    "\n",
    "docker-compose up -d mlserver\n"
   ]
  },
  {
   "cell_type": "markdown",
   "id": "7",
   "metadata": {},
   "source": [
    "### Calls to server"
   ]
  },
  {
   "cell_type": "code",
   "execution_count": null,
   "id": "8",
   "metadata": {},
   "outputs": [],
   "source": [
    "%%bash\n",
    "\n",
    "curl -X POST -s \"${MODEL_SERVER_URL}/v2/models/${MODEL_NAME}/infer\" \\\n",
    "     -H \"Content-Type: application/json\" \\\n",
    "     -d '{\n",
    "           \"inputs\": [\n",
    "             {\n",
    "               \"name\": \"input-0\",\n",
    "               \"shape\": [2, 10],\n",
    "               \"datatype\": \"FP64\",\n",
    "               \"data\": [\n",
    "                    [0.038076, 0.050680, 0.061696, 0.021872, -0.044223, -0.034821, -0.043401, -0.002592, 0.019907, -0.017646],\n",
    "                    [0.041708, 0.059182, 0.063738, 0.022681, -0.042640, -0.034450, -0.042857, -0.002639, 0.020058, -0.017646]\n",
    "               ]\n",
    "             }\n",
    "           ]\n",
    "         }' | jq\n"
   ]
  },
  {
   "cell_type": "code",
   "execution_count": null,
   "id": "9",
   "metadata": {},
   "outputs": [],
   "source": [
    "%%bash\n",
    "curl -X GET -s \"${MODEL_SERVER_URL}/v2/models/${MODEL_NAME}\" | jq\n"
   ]
  },
  {
   "cell_type": "code",
   "execution_count": null,
   "id": "10",
   "metadata": {},
   "outputs": [],
   "source": [
    "%%bash\n",
    "curl -s -X POST ${MODEL_SERVER_URL}/invocations \\\n",
    " -H \"Content-Type: application/json\" \\\n",
    "  -d '{\n",
    "        \"dataframe_split\": {\n",
    "            \"columns\": [\"age\", \"sex\", \"bmi\", \"bp\", \"s1\", \"s2\", \"s3\", \"s4\", \"s5\", \"s6\"],\n",
    "            \"data\": [\n",
    "                [0.038076, 0.050680, 0.061696, 0.021872, -0.044223, -0.034821, -0.043401, -0.002592, 0.019907, -0.017646],\n",
    "                [-0.001882, 0.352598, -0.170647, 0.190409, 0.273711, -0.024980, -0.091299, 0.042257, -0.049390, -0.092804]\n",
    "            ]\n",
    "        }\n",
    "      }' \\\n",
    "  | jq\n",
    "\n"
   ]
  },
  {
   "cell_type": "markdown",
   "id": "11",
   "metadata": {},
   "source": [
    "##### Force model unload/load with curl"
   ]
  },
  {
   "cell_type": "code",
   "execution_count": null,
   "id": "12",
   "metadata": {},
   "outputs": [],
   "source": [
    "%%bash\n",
    "\n",
    "curl -s  -X POST \"${MODEL_SERVER_URL}/v2/repository/models/${MODEL_NAME}/unload\"\n"
   ]
  },
  {
   "cell_type": "code",
   "execution_count": null,
   "id": "13",
   "metadata": {},
   "outputs": [],
   "source": [
    "%%bash\n",
    "\n",
    "curl -s -X POST \"${MODEL_SERVER_URL}/v2/repository/models/${MODEL_NAME}/load\" | jq\n"
   ]
  },
  {
   "cell_type": "markdown",
   "id": "14",
   "metadata": {},
   "source": [
    "Check model status with repository index call"
   ]
  },
  {
   "cell_type": "code",
   "execution_count": null,
   "id": "15",
   "metadata": {},
   "outputs": [],
   "source": [
    "%%bash\n",
    "\n",
    "curl -s -X POST \"${MODEL_SERVER_URL}/v2/repository/index\" \\\n",
    "  -H \"Content-Type: application/json\" \\\n",
    "  -d \"{}\" | jq"
   ]
  },
  {
   "cell_type": "markdown",
   "id": "16",
   "metadata": {},
   "source": [
    "#### Using Custom docker container model-server"
   ]
  },
  {
   "cell_type": "code",
   "execution_count": null,
   "id": "17",
   "metadata": {},
   "outputs": [],
   "source": [
    "%%bash\n",
    "\n",
    "curl -s -X POST \"${MODEL_SERVER_URL}/invocations\" \\\n",
    " -H \"Content-Type: application/json\" \\\n",
    "  -d '{\n",
    "        \"dataframe_split\": {\n",
    "            \"columns\": [\"age\", \"sex\", \"bmi\", \"bp\", \"s1\", \"s2\", \"s3\", \"s4\", \"s5\", \"s6\"],\n",
    "            \"data\": [\n",
    "                [0.038076, 0.050680, 0.061696, 0.021872, -0.044223, -0.034821, -0.043401, -0.002592, 0.019907, -0.017646],\n",
    "                [-0.001882, -0.044642, -0.118358, -0.034689, -0.045946, -0.034157, -0.072402, 0.042324, -0.009637, 0.034509]\n",
    "            ]\n",
    "        }\n",
    "      }' \\\n",
    "  | jq\n"
   ]
  },
  {
   "cell_type": "code",
   "execution_count": null,
   "id": "18",
   "metadata": {},
   "outputs": [],
   "source": [
    "%%bash\n",
    "\n",
    "curl -s -X POST \"${MODEL_SERVER_URL}/v2/repository/index\" \\\n",
    "  -H \"Content-Type: application/json\" \\\n",
    "  -d \"{}\" | jq\n"
   ]
  }
 ],
 "metadata": {
  "execution": {
   "iopub_status": {}
  },
  "jupytext": {
   "cell_metadata_filter": "all,-pycharm",
   "formats": "ipynb,py:percent",
   "notebook_metadata_filter": "all,-pycharm"
  },
  "kernelspec": {
   "display_name": "Python 3",
   "language": "python",
   "name": "python3"
  },
  "language_info": {
   "codemirror_mode": {
    "name": "ipython",
    "version": 2
   },
   "file_extension": ".py",
   "mimetype": "text/x-python",
   "name": "python",
   "nbconvert_exporter": "python",
   "pygments_lexer": "ipython2",
   "version": "2.7.6"
  }
 },
 "nbformat": 4,
 "nbformat_minor": 5
}
