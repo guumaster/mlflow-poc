{
 "cells": [
  {
   "metadata": {},
   "cell_type": "markdown",
   "source": "## Testing calls to model server",
   "id": "853332082e7db3f3"
  },
  {
   "metadata": {},
   "cell_type": "markdown",
   "source": "#### Setup for Seldom MLflow custom model server",
   "id": "4ae30b33ec15ffdc"
  },
  {
   "metadata": {},
   "cell_type": "code",
   "source": [
    "# Config for diabetes-model-server\n",
    "%env MODEL_SERVER_URL=http://localhost:7000\n",
    "%env MODEL_NAME=mlflow-model\n",
    "\n"
   ],
   "id": "960064500543574",
   "outputs": [],
   "execution_count": null
  },
  {
   "metadata": {},
   "cell_type": "code",
   "source": [
    "%%bash\n",
    "\n",
    "docker-compose up -d diabetes-model-server\n"
   ],
   "id": "c7f099b4756a3e32",
   "outputs": [],
   "execution_count": null
  },
  {
   "metadata": {},
   "cell_type": "markdown",
   "source": "### Setup for Seldom mlserver",
   "id": "121fed35519a78d3"
  },
  {
   "metadata": {},
   "cell_type": "code",
   "source": [
    "# Config for mlserver (Seldon.IO container)\n",
    "%env MODEL_SERVER_URL=http://localhost:8080\n",
    "%env MODEL_NAME=diabetes-model"
   ],
   "id": "c7b002199ed09501",
   "outputs": [],
   "execution_count": null
  },
  {
   "metadata": {},
   "cell_type": "code",
   "source": [
    "%%bash\n",
    "\n",
    "docker-compose up -d mlserver\n"
   ],
   "id": "1ad89827b27d5a51",
   "outputs": [],
   "execution_count": null
  },
  {
   "metadata": {},
   "cell_type": "markdown",
   "source": "### Calls to server",
   "id": "540faf59c01e97e5"
  },
  {
   "metadata": {
    "ExecuteTime": {
     "end_time": "2025-05-15T11:15:24.099537Z",
     "start_time": "2025-05-15T11:15:23.827935Z"
    }
   },
   "cell_type": "code",
   "source": [
    "%%bash\n",
    "\n",
    "curl -X POST -s \"${MODEL_SERVER_URL}/v2/models/${MODEL_NAME}/infer\" \\\n",
    "     -H \"Content-Type: application/json\" \\\n",
    "     -d '{\n",
    "           \"inputs\": [\n",
    "             {\n",
    "               \"name\": \"input-0\",\n",
    "               \"shape\": [2, 10],\n",
    "               \"datatype\": \"FP64\",\n",
    "               \"data\": [\n",
    "                    [0.038076, 0.050680, 0.061696, 0.021872, -0.044223, -0.034821, -0.043401, -0.002592, 0.019907, -0.017646],\n",
    "                    [0.041708, 0.059182, 0.063738, 0.022681, -0.042640, -0.034450, -0.042857, -0.002639, 0.020058, -0.017646]\n",
    "               ]\n",
    "             }\n",
    "           ]\n",
    "         }' | jq\n"
   ],
   "id": "5956af9a1fc5ceab",
   "outputs": [
    {
     "name": "stdout",
     "output_type": "stream",
     "text": [
      "{\n",
      "  \"model_name\": \"diabetes-model\",\n",
      "  \"id\": \"054614cf-f1fb-4691-b44d-c0eeaf43d292\",\n",
      "  \"parameters\": {\n",
      "    \"content_type\": \"np\"\n",
      "  },\n",
      "  \"outputs\": [\n",
      "    {\n",
      "      \"name\": \"output-1\",\n",
      "      \"shape\": [\n",
      "        2,\n",
      "        1\n",
      "      ],\n",
      "      \"datatype\": \"FP64\",\n",
      "      \"parameters\": {\n",
      "        \"content_type\": \"np\"\n",
      "      },\n",
      "      \"data\": [\n",
      "        187.53314700070217,\n",
      "        186.97810774171552\n",
      "      ]\n",
      "    }\n",
      "  ]\n",
      "}\n"
     ]
    }
   ],
   "execution_count": 65
  },
  {
   "metadata": {
    "ExecuteTime": {
     "end_time": "2025-05-15T11:15:24.142609Z",
     "start_time": "2025-05-15T11:15:24.108514Z"
    }
   },
   "cell_type": "code",
   "source": [
    "%%bash\n",
    "curl -X GET -s \"${MODEL_SERVER_URL}/v2/models/${MODEL_NAME}\" | jq\n"
   ],
   "id": "2e6ef40b0f44451c",
   "outputs": [
    {
     "name": "stdout",
     "output_type": "stream",
     "text": [
      "{\n",
      "  \"name\": \"diabetes-model\",\n",
      "  \"versions\": [],\n",
      "  \"platform\": \"\",\n",
      "  \"inputs\": [\n",
      "    {\n",
      "      \"name\": \"input-0\",\n",
      "      \"datatype\": \"FP64\",\n",
      "      \"shape\": [\n",
      "        -1,\n",
      "        10\n",
      "      ],\n",
      "      \"parameters\": {\n",
      "        \"content_type\": \"np\"\n",
      "      }\n",
      "    }\n",
      "  ],\n",
      "  \"outputs\": [\n",
      "    {\n",
      "      \"name\": \"output-0\",\n",
      "      \"datatype\": \"FP64\",\n",
      "      \"shape\": [\n",
      "        -1\n",
      "      ],\n",
      "      \"parameters\": {\n",
      "        \"content_type\": \"np\"\n",
      "      }\n",
      "    }\n",
      "  ],\n",
      "  \"parameters\": {\n",
      "    \"content_type\": \"np\"\n",
      "  }\n",
      "}\n"
     ]
    }
   ],
   "execution_count": 66
  },
  {
   "metadata": {
    "ExecuteTime": {
     "end_time": "2025-05-15T11:15:24.227694Z",
     "start_time": "2025-05-15T11:15:24.159253Z"
    }
   },
   "cell_type": "code",
   "source": [
    "%%bash\n",
    "curl -s -X POST ${MODEL_SERVER_URL}/invocations \\\n",
    " -H \"Content-Type: application/json\" \\\n",
    "  -d '{\n",
    "        \"dataframe_split\": {\n",
    "            \"columns\": [\"age\", \"sex\", \"bmi\", \"bp\", \"s1\", \"s2\", \"s3\", \"s4\", \"s5\", \"s6\"],\n",
    "            \"data\": [\n",
    "                [0.038076, 0.050680, 0.061696, 0.021872, -0.044223, -0.034821, -0.043401, -0.002592, 0.019907, -0.017646],\n",
    "                [-0.001882, 0.352598, -0.170647, 0.190409, 0.273711, -0.024980, -0.091299, 0.042257, -0.049390, -0.092804]\n",
    "            ]\n",
    "        }\n",
    "      }' \\\n",
    "  | jq\n",
    "\n"
   ],
   "id": "9704ed1d2c63eb48",
   "outputs": [
    {
     "name": "stdout",
     "output_type": "stream",
     "text": [
      "{\n",
      "  \"predictions\": [\n",
      "    187.53314700070217,\n",
      "    93.96267376859655\n",
      "  ]\n",
      "}\n"
     ]
    }
   ],
   "execution_count": 67
  },
  {
   "metadata": {},
   "cell_type": "markdown",
   "source": "##### Force model unload/load with curl",
   "id": "587e7b3f790c2a5a"
  },
  {
   "metadata": {
    "ExecuteTime": {
     "end_time": "2025-05-15T11:15:24.299953Z",
     "start_time": "2025-05-15T11:15:24.240664Z"
    }
   },
   "cell_type": "code",
   "source": [
    "%%bash\n",
    "\n",
    "curl -s  -X POST \"${MODEL_SERVER_URL}/v2/repository/models/${MODEL_NAME}/unload\"\n"
   ],
   "id": "fd4c8269082c66a2",
   "outputs": [],
   "execution_count": 68
  },
  {
   "metadata": {
    "ExecuteTime": {
     "end_time": "2025-05-15T11:15:24.685170Z",
     "start_time": "2025-05-15T11:15:24.308048Z"
    }
   },
   "cell_type": "code",
   "source": [
    "%%bash\n",
    "\n",
    "curl -s -X POST \"${MODEL_SERVER_URL}/v2/repository/models/${MODEL_NAME}/load\" | jq\n"
   ],
   "id": "adcf7a22efdb52ac",
   "outputs": [],
   "execution_count": 69
  },
  {
   "metadata": {},
   "cell_type": "markdown",
   "source": "Check model status with repository index call",
   "id": "600e87b14fb370c7"
  },
  {
   "metadata": {
    "ExecuteTime": {
     "end_time": "2025-05-15T11:15:24.717244Z",
     "start_time": "2025-05-15T11:15:24.692559Z"
    }
   },
   "cell_type": "code",
   "source": [
    "%%bash\n",
    "\n",
    "curl -s -X POST \"${MODEL_SERVER_URL}/v2/repository/index\" \\\n",
    "  -H \"Content-Type: application/json\" \\\n",
    "  -d \"{}\" | jq"
   ],
   "id": "75d3db9bdde8a98b",
   "outputs": [
    {
     "name": "stdout",
     "output_type": "stream",
     "text": [
      "[\n",
      "  {\n",
      "    \"name\": \"diabetes-model\",\n",
      "    \"state\": \"READY\",\n",
      "    \"reason\": \"\"\n",
      "  }\n",
      "]\n"
     ]
    }
   ],
   "execution_count": 70
  },
  {
   "metadata": {},
   "cell_type": "markdown",
   "source": "#### Using Custom docker container model-server",
   "id": "1313df2126bfc5c2"
  },
  {
   "metadata": {
    "ExecuteTime": {
     "end_time": "2025-05-15T11:15:24.761049Z",
     "start_time": "2025-05-15T11:15:24.726037Z"
    }
   },
   "cell_type": "code",
   "source": [
    "%%bash\n",
    "\n",
    "curl -s -X POST \"${MODEL_SERVER_URL}/invocations\" \\\n",
    " -H \"Content-Type: application/json\" \\\n",
    "  -d '{\n",
    "        \"dataframe_split\": {\n",
    "            \"columns\": [\"age\", \"sex\", \"bmi\", \"bp\", \"s1\", \"s2\", \"s3\", \"s4\", \"s5\", \"s6\"],\n",
    "            \"data\": [\n",
    "                [0.038076, 0.050680, 0.061696, 0.021872, -0.044223, -0.034821, -0.043401, -0.002592, 0.019907, -0.017646],\n",
    "                [-0.001882, -0.044642, -0.118358, -0.034689, -0.045946, -0.034157, -0.072402, 0.042324, -0.009637, 0.034509]\n",
    "            ]\n",
    "        }\n",
    "      }' \\\n",
    "  | jq\n"
   ],
   "id": "5baf78b6c6b3f4fb",
   "outputs": [
    {
     "name": "stdout",
     "output_type": "stream",
     "text": [
      "{\n",
      "  \"predictions\": [\n",
      "    187.53314700070217,\n",
      "    112.54862853914825\n",
      "  ]\n",
      "}\n"
     ]
    }
   ],
   "execution_count": 71
  },
  {
   "metadata": {
    "ExecuteTime": {
     "end_time": "2025-05-15T11:15:24.794915Z",
     "start_time": "2025-05-15T11:15:24.770643Z"
    }
   },
   "cell_type": "code",
   "source": [
    "%%bash\n",
    "\n",
    "curl -s -X POST \"${MODEL_SERVER_URL}/v2/repository/index\" \\\n",
    "  -H \"Content-Type: application/json\" \\\n",
    "  -d \"{}\" | jq\n"
   ],
   "id": "8e1cfcb8ac144721",
   "outputs": [
    {
     "name": "stdout",
     "output_type": "stream",
     "text": [
      "[\n",
      "  {\n",
      "    \"name\": \"diabetes-model\",\n",
      "    \"state\": \"READY\",\n",
      "    \"reason\": \"\"\n",
      "  }\n",
      "]\n"
     ]
    }
   ],
   "execution_count": 72
  }
 ],
 "metadata": {
  "kernelspec": {
   "display_name": "Python 3",
   "language": "python",
   "name": "python3"
  },
  "language_info": {
   "codemirror_mode": {
    "name": "ipython",
    "version": 2
   },
   "file_extension": ".py",
   "mimetype": "text/x-python",
   "name": "python",
   "nbconvert_exporter": "python",
   "pygments_lexer": "ipython2",
   "version": "2.7.6"
  }
 },
 "nbformat": 4,
 "nbformat_minor": 5
}
