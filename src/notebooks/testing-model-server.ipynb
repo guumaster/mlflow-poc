{
 "cells": [
  {
   "cell_type": "markdown",
   "id": "0",
   "metadata": {},
   "source": [
    "## Calls to Dagster"
   ]
  },
  {
   "cell_type": "code",
   "execution_count": null,
   "id": "1",
   "metadata": {},
   "outputs": [],
   "source": [
    "import time\n",
    "\n",
    "from dagster_graphql import DagsterGraphQLClient, DagsterGraphQLClientError\n",
    "\n",
    "from dagster import DagsterRunStatus\n",
    "\n",
    "\n",
    "# Function to wait for completion\n",
    "def wait_for_job_completion(run_id, timeout=3600, poll_interval=5):\n",
    "    start_time = time.time()\n",
    "\n",
    "    while True:\n",
    "        # Check if timeout reached\n",
    "        if time.time() - start_time > timeout:\n",
    "            raise TimeoutError(f\"Job {run_id} did not complete within {timeout} seconds\")\n",
    "\n",
    "        try:\n",
    "            status = client.get_run_status(run_id)\n",
    "            if status == DagsterRunStatus.SUCCESS:\n",
    "                return True, status\n",
    "            if status in [DagsterRunStatus.FAILURE, DagsterRunStatus.CANCELED]:\n",
    "                return False, status\n",
    "            print(f\"Job status: {status}. Waiting...\")\n",
    "            time.sleep(poll_interval)\n",
    "\n",
    "        except DagsterGraphQLClientError as exc:\n",
    "            print(f\"Error checking job status: {exc}\")\n",
    "            raise\n",
    "\n",
    "\n",
    "def wait_until_model_ready(model_server_url, model_name, max_retries=10, timeout=5, initial_delay=5) -> None:\n",
    "    \"\"\"Wait until the model is ready.\"\"\"\n",
    "\n",
    "    # Initial delay to allow model server to start\n",
    "    print(f\"Waiting for {initial_delay} seconds for model server to start...\")\n",
    "    time.sleep(initial_delay)\n",
    "\n",
    "    retry_count = 0\n",
    "    while retry_count < max_retries:\n",
    "        try:\n",
    "            response = requests.get(f\"{model_server_url}/v2/models/{model_name}/ready\")\n",
    "            response.raise_for_status()  # Raise an exception for bad status codes\n",
    "            print(\"Ready\")\n",
    "            break\n",
    "        except requests.exceptions.RequestException as e:\n",
    "            if retry_count == max_retries - 1:\n",
    "                print(f\"Model is not ready after {max_retries} retries: {e}\")\n",
    "            else:\n",
    "                print(f\"Not ready, retrying in {timeout} seconds: {e}\")\n",
    "        time.sleep(timeout)\n",
    "        retry_count += 1"
   ]
  },
  {
   "cell_type": "code",
   "execution_count": null,
   "id": "2",
   "metadata": {},
   "outputs": [],
   "source": [
    "client = DagsterGraphQLClient(\"localhost\", port_number=3000)\n",
    "\n",
    "# Wait for the job to complete\n",
    "try:\n",
    "    new_run_id: str = client.submit_job_execution(\n",
    "        \"train_diabetes_model_job\",  # Your job name\n",
    "        repository_location_name=\"src.dagster_job.repository\",  # Location from your error\n",
    "        run_config={},\n",
    "    )\n",
    "\n",
    "    print(f\"Job submitted with run_id: {new_run_id}\")\n",
    "\n",
    "    success, status = wait_for_job_completion(new_run_id)\n",
    "    if success:\n",
    "        print(\"Job completed successfully!\")\n",
    "    else:\n",
    "        print(f\"Job failed with status: {status}\")\n",
    "\n",
    "except Exception as e:\n",
    "    print(f\"Error while waiting for job completion: {e}\")\n",
    "    raise"
   ]
  },
  {
   "cell_type": "code",
   "execution_count": null,
   "id": "3",
   "metadata": {},
   "outputs": [],
   "source": [
    "%%bash\n",
    "\n",
    "export MODEL_VERSION=$(curl -s -X GET \"http://localhost:5000/api/2.0/mlflow/registered-models/alias?name=diabetes-model&alias=dev\" \\\n",
    "    | jq -r '.model_version.version')\n",
    "\n",
    "echo \"Model version: $MODEL_VERSION\"\n",
    "\n",
    "echo \"Restarting docker with latest version\"\n",
    "\n",
    "docker-compose --profile model-server up -d  --force-recreate mlflow-diabetes-model\n"
   ]
  },
  {
   "cell_type": "markdown",
   "id": "4",
   "metadata": {},
   "source": [
    "## Testing python calls"
   ]
  },
  {
   "cell_type": "code",
   "execution_count": null,
   "id": "5",
   "metadata": {},
   "outputs": [],
   "source": [
    "import pandas as pd\n",
    "import requests\n",
    "from sklearn import datasets\n",
    "\n",
    "model_server_url = \"http://localhost:7001\"\n",
    "model_name = \"mlflow-model\"\n",
    "\n",
    "model_server_url = \"http://localhost:7000\"\n",
    "model_name = \"diabetes-model\""
   ]
  },
  {
   "cell_type": "code",
   "execution_count": null,
   "id": "6",
   "metadata": {},
   "outputs": [],
   "source": [
    "dataset = datasets.load_diabetes()\n",
    "\n",
    "diabetes_result = pd.DataFrame(dataset[\"data\"], columns=dataset[\"feature_names\"])"
   ]
  },
  {
   "cell_type": "markdown",
   "id": "7",
   "metadata": {},
   "source": [
    "Make prediction for all rows in a dataframe"
   ]
  },
  {
   "cell_type": "code",
   "execution_count": null,
   "id": "8",
   "metadata": {},
   "outputs": [],
   "source": [
    "wait_until_model_ready(model_server_url, model_name)"
   ]
  },
  {
   "cell_type": "code",
   "execution_count": null,
   "id": "9",
   "metadata": {},
   "outputs": [],
   "source": [
    "response = requests.post(\n",
    "    f\"{model_server_url}/invocations\",\n",
    "    json={\n",
    "        \"dataframe_split\": {\"columns\": diabetes_result.columns.to_list(), \"data\": diabetes_result.to_numpy().tolist()},\n",
    "    },\n",
    "    timeout=5,\n",
    ")\n",
    "response_data = response.json()\n",
    "# print(json.dumps(response_data, indent=4))\n",
    "\n",
    "diabetes_result_with_predictions = diabetes_result.copy()\n",
    "diabetes_result_with_predictions[\"predictions_response\"] = response_data[\"predictions\"]\n",
    "\n",
    "diabetes_result_with_predictions"
   ]
  },
  {
   "cell_type": "markdown",
   "id": "10",
   "metadata": {
    "jp-MarkdownHeadingCollapsed": true
   },
   "source": [
    "## Testing API calls to model server"
   ]
  },
  {
   "cell_type": "markdown",
   "id": "11",
   "metadata": {},
   "source": [
    "#### Setup for Dagster built MLflow container"
   ]
  },
  {
   "cell_type": "code",
   "execution_count": null,
   "id": "12",
   "metadata": {},
   "outputs": [],
   "source": [
    "# Config for diabetes-model-server\n",
    "%env MODEL_SERVER_URL=http://localhost:7000\n",
    "%env MODEL_NAME=diabetes-model"
   ]
  },
  {
   "cell_type": "markdown",
   "id": "13",
   "metadata": {},
   "source": [
    "### Setup for Seldom mlserver"
   ]
  },
  {
   "cell_type": "code",
   "execution_count": null,
   "id": "14",
   "metadata": {},
   "outputs": [],
   "source": [
    "# Config for mlserver (Seldon.IO container)\n",
    "%env MODEL_SERVER_URL=http://localhost:8080\n",
    "%env MODEL_NAME=diabetes-model"
   ]
  },
  {
   "cell_type": "code",
   "execution_count": null,
   "id": "15",
   "metadata": {},
   "outputs": [],
   "source": [
    "%%bash\n",
    "\n",
    "docker-compose up -d mlserver\n"
   ]
  },
  {
   "cell_type": "markdown",
   "id": "16",
   "metadata": {},
   "source": [
    "### Calls to server"
   ]
  },
  {
   "cell_type": "code",
   "execution_count": null,
   "id": "17",
   "metadata": {},
   "outputs": [],
   "source": [
    "%%bash\n",
    "\n",
    "curl -f -s  \"${MODEL_SERVER_URL}/v2/models/diabetes-model/ready\" && echo \"Ready\" || echo \"Not ready\"\n"
   ]
  },
  {
   "cell_type": "code",
   "execution_count": null,
   "id": "18",
   "metadata": {},
   "outputs": [],
   "source": [
    "%%bash\n",
    "curl -s -X POST ${MODEL_SERVER_URL}/invocations \\\n",
    " -H \"Content-Type: application/json\" \\\n",
    "  -d '{\n",
    "        \"dataframe_split\": {\n",
    "            \"columns\": [\"age\", \"sex\", \"bmi\", \"bp\", \"s1\", \"s2\", \"s3\", \"s4\", \"s5\", \"s6\"],\n",
    "            \"data\": [\n",
    "                [0.038076, 0.050680, 0.061696, 0.021872, -0.044223, -0.034821, -0.043401, -0.002592, 0.019907, -0.017646],\n",
    "                [-0.001882, 0.352598, -0.170647, 0.190409, 0.273711, -0.024980, -0.091299, 0.042257, -0.049390, -0.092804]\n",
    "            ]\n",
    "        }\n",
    "      }' \\\n",
    "  | jq\n",
    "\n"
   ]
  },
  {
   "cell_type": "code",
   "execution_count": null,
   "id": "19",
   "metadata": {},
   "outputs": [],
   "source": [
    "%%bash\n",
    "\n",
    "curl -X POST -s \"${MODEL_SERVER_URL}/v2/models/${MODEL_NAME}/infer\" \\\n",
    "     -H \"Content-Type: application/json\" \\\n",
    "     -d '{\n",
    "           \"inputs\": [\n",
    "             {\n",
    "               \"name\": \"input-0\",\n",
    "               \"shape\": [2, 10],\n",
    "               \"datatype\": \"FP64\",\n",
    "               \"data\": [\n",
    "                    [0.038076, 0.050680, 0.061696, 0.021872, -0.044223, -0.034821, -0.043401, -0.002592, 0.019907, -0.017646],\n",
    "                    [0.041708, 0.059182, 0.063738, 0.022681, -0.042640, -0.034450, -0.042857, -0.002639, 0.020058, -0.017646]\n",
    "               ]\n",
    "             }\n",
    "           ]\n",
    "         }' | jq\n"
   ]
  },
  {
   "cell_type": "code",
   "execution_count": null,
   "id": "20",
   "metadata": {},
   "outputs": [],
   "source": [
    "%%bash\n",
    "curl -X GET -s \"${MODEL_SERVER_URL}/v2/models/${MODEL_NAME}\" | jq\n"
   ]
  },
  {
   "cell_type": "markdown",
   "id": "21",
   "metadata": {},
   "source": [
    "##### Force model unload/load with curl"
   ]
  },
  {
   "cell_type": "code",
   "execution_count": null,
   "id": "22",
   "metadata": {},
   "outputs": [],
   "source": [
    "%%bash\n",
    "\n",
    "curl -s  -X POST \"${MODEL_SERVER_URL}/v2/repository/models/${MODEL_NAME}/unload\"\n"
   ]
  },
  {
   "cell_type": "code",
   "execution_count": null,
   "id": "23",
   "metadata": {},
   "outputs": [],
   "source": [
    "%%bash\n",
    "\n",
    "curl -s -X POST \"${MODEL_SERVER_URL}/v2/repository/models/${MODEL_NAME}/load\" | jq\n"
   ]
  },
  {
   "cell_type": "markdown",
   "id": "24",
   "metadata": {},
   "source": [
    "Check model status with repository index call"
   ]
  },
  {
   "cell_type": "code",
   "execution_count": null,
   "id": "25",
   "metadata": {},
   "outputs": [],
   "source": [
    "%%bash\n",
    "\n",
    "curl -s -X POST \"${MODEL_SERVER_URL}/v2/repository/index\" \\\n",
    "  -H \"Content-Type: application/json\" \\\n",
    "  -d \"{}\" | jq"
   ]
  },
  {
   "cell_type": "markdown",
   "id": "26",
   "metadata": {},
   "source": [
    "#### Using Custom docker container model-server"
   ]
  },
  {
   "cell_type": "code",
   "execution_count": null,
   "id": "27",
   "metadata": {},
   "outputs": [],
   "source": [
    "%%bash\n",
    "\n",
    "curl -s -X POST \"${MODEL_SERVER_URL}/invocations\" \\\n",
    " -H \"Content-Type: application/json\" \\\n",
    "  -d '{\n",
    "        \"dataframe_split\": {\n",
    "            \"columns\": [\"age\", \"sex\", \"bmi\", \"bp\", \"s1\", \"s2\", \"s3\", \"s4\", \"s5\", \"s6\"],\n",
    "            \"data\": [\n",
    "                [0.038076, 0.050680, 0.061696, 0.021872, -0.044223, -0.034821, -0.043401, -0.002592, 0.019907, -0.017646],\n",
    "                [-0.001882, -0.044642, -0.118358, -0.034689, -0.045946, -0.034157, -0.072402, 0.042324, -0.009637, 0.034509]\n",
    "            ]\n",
    "        }\n",
    "      }' \\\n",
    "  | jq\n"
   ]
  },
  {
   "cell_type": "code",
   "execution_count": null,
   "id": "28",
   "metadata": {},
   "outputs": [],
   "source": [
    "%%bash\n",
    "\n",
    "curl -s -X POST \"${MODEL_SERVER_URL}/v2/repository/index\" \\\n",
    "  -H \"Content-Type: application/json\" \\\n",
    "  -d \"{}\" | jq\n"
   ]
  }
 ],
 "metadata": {
  "execution": {
   "iopub_status": {}
  },
  "jupytext": {
   "cell_metadata_filter": "all,-pycharm",
   "formats": "ipynb,py:percent",
   "notebook_metadata_filter": "all,-pycharm"
  },
  "kernelspec": {
   "display_name": "Python 3 (ipykernel)",
   "language": "python",
   "name": "python3"
  },
  "language_info": {
   "codemirror_mode": {
    "name": "ipython",
    "version": 3
   },
   "file_extension": ".py",
   "mimetype": "text/x-python",
   "name": "python",
   "nbconvert_exporter": "python",
   "pygments_lexer": "ipython3",
   "version": "3.12.9"
  }
 },
 "nbformat": 4,
 "nbformat_minor": 5
}
