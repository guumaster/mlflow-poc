{
 "cells": [
  {
   "cell_type": "markdown",
   "id": "de2d234cac2362cc",
   "metadata": {},
   "source": [
    "# Simple Workflow with MLFlow and S3"
   ]
  },
  {
   "cell_type": "markdown",
   "id": "36951bffc8710a",
   "metadata": {},
   "source": [
    "## Step 1: Set up environment variables for AWS S3 and MLFlow\n"
   ]
  },
  {
   "cell_type": "code",
   "id": "initial_id",
   "metadata": {
    "ExecuteTime": {
     "end_time": "2025-05-11T00:18:07.455756Z",
     "start_time": "2025-05-11T00:18:07.447900Z"
    }
   },
   "source": [
    "from IPython.core.display_functions import clear_output\n",
    "%env AWS_ACCESS_KEY_ID=admin\n",
    "%env AWS_SECRET_ACCESS_KEY=admin123\n",
    "%env MLFLOW_S3_ENDPOINT_URL=http://localhost:9000"
   ],
   "outputs": [
    {
     "name": "stdout",
     "output_type": "stream",
     "text": [
      "env: AWS_ACCESS_KEY_ID=admin\n",
      "env: AWS_SECRET_ACCESS_KEY=admin123\n",
      "env: MLFLOW_S3_ENDPOINT_URL=http://localhost:9000\n"
     ]
    }
   ],
   "execution_count": 81
  },
  {
   "cell_type": "markdown",
   "id": "16d311cdfc305220",
   "metadata": {},
   "source": [
    "## Step 2: Import necessary libraries and set up MLFlow"
   ]
  },
  {
   "cell_type": "code",
   "id": "46d23d445deb11ba",
   "metadata": {
    "ExecuteTime": {
     "end_time": "2025-05-11T00:18:07.585247Z",
     "start_time": "2025-05-11T00:18:07.477380Z"
    }
   },
   "source": [
    "import random\n",
    "\n",
    "import mlflow\n",
    "import numpy as np\n",
    "import pandas as pd\n",
    "from mlflow import MlflowClient\n",
    "from sklearn import datasets\n",
    "from sklearn.ensemble import RandomForestRegressor\n",
    "from sklearn.metrics import mean_squared_error, mean_absolute_error, r2_score\n",
    "from sklearn.model_selection import train_test_split\n",
    "from IPython.display import clear_output\n",
    "\n",
    "experiment_name = \"Simple Workflow\"\n",
    "model_name = \"diabetes-model\"\n",
    "mlflow.set_tracking_uri(uri=\"http://localhost:5000\")\n",
    "experiment = mlflow.set_experiment(experiment_name)\n",
    "\n",
    "print(f\"Experiment Name: {experiment.name} with id: {experiment.experiment_id}\")\n",
    "\n",
    "latest_run = None\n",
    "latest_metrics = {\n",
    "    \"test_rmse\": None,\n",
    "    \"test_mae\": None,\n",
    "    \"test_r2\": None\n",
    "}\n",
    "res = []\n",
    "client = MlflowClient()\n"
   ],
   "outputs": [
    {
     "name": "stdout",
     "output_type": "stream",
     "text": [
      "Experiment Name: Simple Workflow with id: 1\n"
     ]
    }
   ],
   "execution_count": 82
  },
  {
   "cell_type": "markdown",
   "id": "3a6b78ff3009c1c7",
   "metadata": {},
   "source": [
    "### Load latest metrics and display them"
   ]
  },
  {
   "cell_type": "code",
   "id": "641e57fce74b6715",
   "metadata": {
    "ExecuteTime": {
     "end_time": "2025-05-11T00:18:07.663005Z",
     "start_time": "2025-05-11T00:18:07.600137Z"
    }
   },
   "source": [
    "\n",
    "if experiment:\n",
    "    res = client.search_runs(\n",
    "        experiment.experiment_id,\n",
    "        order_by=[\"attributes.start_time DESC\"],\n",
    "        max_results=1\n",
    "    )\n",
    "\n",
    "if len(res) > 0:\n",
    "    latest_run = res[0]\n",
    "    # Get metrics from latest run (handle missing metrics gracefully)\n",
    "    latest_metrics[\"test_rmse\"] = latest_run.data.metrics.get(\"test_rmse\")\n",
    "    latest_metrics[\"test_mae\"] = latest_run.data.metrics.get(\"test_mae\")\n",
    "    latest_metrics[\"test_r2\"] = latest_run.data.metrics.get(\"test_r2\")\n",
    "\n",
    "    print(f\"Comparing next run with latest run: {latest_metrics}\")"
   ],
   "outputs": [
    {
     "name": "stdout",
     "output_type": "stream",
     "text": [
      "Comparing next run with latest run: {'test_rmse': 59.28097642018675, 'test_mae': 49.252275594702084, 'test_r2': 0.39092062310011166}\n"
     ]
    }
   ],
   "execution_count": 83
  },
  {
   "cell_type": "markdown",
   "id": "ca40fa97a9d0efd",
   "metadata": {},
   "source": [
    "### Load diabetes dataset"
   ]
  },
  {
   "cell_type": "code",
   "id": "563ce81b4ec961",
   "metadata": {
    "ExecuteTime": {
     "end_time": "2025-05-11T00:18:07.688139Z",
     "start_time": "2025-05-11T00:18:07.679177Z"
    }
   },
   "source": [
    "dataset = datasets.load_diabetes()"
   ],
   "outputs": [],
   "execution_count": 84
  },
  {
   "cell_type": "markdown",
   "id": "96cb62f8bdfb4183",
   "metadata": {},
   "source": [
    "### Define helper functions"
   ]
  },
  {
   "cell_type": "code",
   "id": "2189c29ae9be2f05",
   "metadata": {
    "ExecuteTime": {
     "end_time": "2025-05-11T00:18:07.708862Z",
     "start_time": "2025-05-11T00:18:07.702544Z"
    }
   },
   "source": [
    "from typing import Dict\n",
    "\n",
    "\n",
    "def compare_metrics(client: MlflowClient, current_run_id: str, baseline_run_id: str, metrics_to_compare: Dict[str, str]):\n",
    "    \"\"\"\n",
    "    Compare the performance of two runs based on given metrics.\n",
    "\n",
    "    Args:\n",
    "        client (object): Client object to interact with the system.\n",
    "        current_run_id (str): ID of the current run.\n",
    "        baseline_run_id (str): ID of the baseline run.\n",
    "        metrics_to_compare (dict): Dictionary of metrics to compare, where each key is a metric name and its value is a string indicating whether \"higher\" or \"lower\" performance is better.\n",
    "\n",
    "    Returns:\n",
    "        dict: A dictionary containing boolean values for each metric in `metrics_to_compare`, indicating whether the current run performed better than the baseline run.\n",
    "    \"\"\"\n",
    "\n",
    "    # Get the metrics data from the runs\n",
    "    current_run = client.get_run(current_run_id)\n",
    "    baseline_run = client.get_run(baseline_run_id)\n",
    "\n",
    "    current_metrics = current_run.data.metrics\n",
    "    baseline_metrics = baseline_run.data.metrics\n",
    "\n",
    "    # Initialize a dictionary to store the comparison results\n",
    "    improvement = {metric: False for metric in metrics_to_compare}\n",
    "\n",
    "    # Compare each metric\n",
    "    for metric, direction in metrics_to_compare.items():\n",
    "        if direction.lower() == \"higher\":\n",
    "            current_improvement = current_metrics.get(metric) > baseline_metrics.get(metric)\n",
    "        elif direction.lower() == \"lower\":\n",
    "            current_improvement = current_metrics.get(metric) < baseline_metrics.get(metric)\n",
    "        else:\n",
    "            raise ValueError(f\"Invalid comparison direction for metric '{metric}'. Use 'higher' or 'lower'.\")\n",
    "\n",
    "        improvement[metric] = current_improvement\n",
    "\n",
    "    return improvement\n",
    "\n",
    "\n",
    "def generate_random_run_name():\n",
    "    \"\"\"\n",
    "    Generates a random (semi) aviation-related name in slug form.\n",
    "\n",
    "    Returns:\n",
    "        str: A string with the name in lowercase, containing an adjective and noun, followed by a 3-digit suffix.\n",
    "    \"\"\"\n",
    "    adjectives = [\n",
    "        \"Transonic\", \"Hypersonic\", \"Afterburning\", \"Turbocharged\",\n",
    "        \"Supersonic\", \"Machbreaking\", \"Scramjet\", \"Thrustvectored\",\n",
    "        \"Stratospheric\", \"Tropospheric\", \"Cloudpiercing\", \"Jetstreamed\",\n",
    "        \"Contrailswept\", \"Headwinded\", \"Tailwinded\", \"Crosswinded\",\n",
    "        \"Flybywire\", \"Autothrottle\", \"Glasscockpit\", \"Headup\",\n",
    "        \"Skybound\", \"Runwaylit\", \"Aileronrolled\", \"Flapsdown\",\n",
    "        \"Chocksaway\", \"Clearedfortakeoff\", \"Finalapproach\", \"Goaround\",\n",
    "        \"Quantum\", \"Neural\", \"Plasma\", \"Gravitic\", \"Singularity\",\n",
    "        \"Nanotech\", \"Exo\", \"Hyperspace\", \"Photon\", \"Cloaking\",\n",
    "        \"Tachyon\", \"Warp\", \"Zero-G\", \"Cybernetic\", \"Holographic\",\n",
    "        \"Ion\", \"Antimatter\", \"Bioengineered\", \"Psi\", \"Chronojump\"\n",
    "    ]\n",
    "\n",
    "    nouns = [\n",
    "        \"Turbofan\", \"Tailfin\", \"Flaps\", \"Ailerons\", \"Elevator\", \"Rudder\",\n",
    "        \"Spoilers\", \"Slats\", \"Throttle\", \"Yawdamper\", \"Stick\", \"Pedals\",\n",
    "        \"Tarmac\", \"Hangar\", \"Airstrip\", \"Runway\", \"Taxiway\", \"Apron\",\n",
    "        \"Jetbridge\", \"Windsock\", \"Glideslope\", \"Localizer\", \"Gliderail\",\n",
    "        \"Flightdeck\", \"Blackbox\", \"Transponder\", \"Squawkbox\",\n",
    "        \"Takeoff\", \"Landing\", \"Approach\", \"Holdingpattern\",\n",
    "        \"Jumpgate\", \"Thruster\", \"Pulsejet\", \"Shield\", \"Wormhole\",\n",
    "        \"Drone\", \"Neurohelm\", \"Gravcoil\", \"Phasewings\", \"Starfighter\",\n",
    "        \"Titanium\", \"Voidship\", \"Lasercannon\", \"AI\", \"Stasis\",\n",
    "        \"Dyson\", \"Warpcore\", \"Omnitool\", \"Singularity\", \"Hoverpad\"\n",
    "    ]\n",
    "\n",
    "    random_adjective = random.choice(adjectives).lower()\n",
    "    random_noun = random.choice(nouns).lower()\n",
    "\n",
    "    # Generate a 3-digit suffix\n",
    "    suffix = str(random.randint(100, 999))\n",
    "\n",
    "    return f\"{random_adjective}-{random_noun}-{suffix}\""
   ],
   "outputs": [],
   "execution_count": 85
  },
  {
   "cell_type": "markdown",
   "id": "46ffbf90ccc51354",
   "metadata": {},
   "source": [
    "## Step 3: Randomize Hyperparameters for Model Training"
   ]
  },
  {
   "cell_type": "code",
   "id": "ac9ed1a2c64b5cf6",
   "metadata": {
    "ExecuteTime": {
     "end_time": "2025-05-11T00:18:15.849454Z",
     "start_time": "2025-05-11T00:18:07.721250Z"
    }
   },
   "source": [
    "from mlflow.entities import RunStatus\n",
    "\n",
    "# Define the hyperparameter ranges\n",
    "n_estimators_range = (10, 500)\n",
    "max_depth_range = (5, 20)\n",
    "max_features_range = (2, 10)\n",
    "min_samples_leaf_range = (1, 50)\n",
    "\n",
    "max_search_attempts = 5\n",
    "\n",
    "# Create a parent run for all the attempts\n",
    "with mlflow.start_run(\n",
    "        run_name=generate_random_run_name(),\n",
    ") as parent_run:\n",
    "    # Enable MLflow's automatic experiment tracking for scikit-learn\n",
    "    mlflow.sklearn.autolog()\n",
    "\n",
    "    print(f\"Starting hyperparameter search under parent run {parent_run.info.run_id}\")\n",
    "\n",
    "    best_run = None\n",
    "    improvement_found = False\n",
    "    for attempt in range(1, max_search_attempts + 1):\n",
    "        print(f\"\\n=== Attempt {attempt}/{max_search_attempts} ===\")\n",
    "\n",
    "        # Randomize the hyperparameters\n",
    "        n_estimators = random.randint(*n_estimators_range)\n",
    "        max_depth = random.randint(*max_depth_range)\n",
    "        max_features = random.randint(*max_features_range)\n",
    "        min_samples_leaf = random.randint(*min_samples_leaf_range)\n",
    "        random_seed = random.randint(0, 1000)\n",
    "\n",
    "        with mlflow.start_run(run_name=f\"{parent_run.info.run_name}-attempt-{attempt}\", nested=True) as child_run:\n",
    "            print(f\"Starting nested run {child_run.info.run_id}\")\n",
    "\n",
    "            # Load the training dataset\n",
    "            X_train, X_test, y_train, y_test = train_test_split(dataset.data, dataset.target, random_state=random_seed)\n",
    "\n",
    "            mlflow.log_param(\"n_estimators\", n_estimators)\n",
    "            mlflow.log_param(\"max_depth\", max_depth)\n",
    "            mlflow.log_param(\"max_features\", max_features)\n",
    "            mlflow.log_param(\"min_samples_leaf\", min_samples_leaf)\n",
    "\n",
    "            rf = RandomForestRegressor(\n",
    "                n_estimators=n_estimators,\n",
    "                max_depth=max_depth,\n",
    "                max_features=max_features,\n",
    "                min_samples_leaf=min_samples_leaf,\n",
    "                random_state=random_seed\n",
    "            )\n",
    "\n",
    "            # MLflow triggers logging automatically upon model fitting\n",
    "            rf.fit(X_train, y_train)\n",
    "            # Make predictions\n",
    "            y_pred = rf.predict(X_test)\n",
    "\n",
    "            # Calculate and log regression metrics\n",
    "            current_rmse = np.sqrt(mean_squared_error(y_test, y_pred))\n",
    "            current_mae = mean_absolute_error(y_test, y_pred)\n",
    "            current_r2 = r2_score(y_test, y_pred)\n",
    "\n",
    "            current_metrics = {\n",
    "                \"test_rmse\": current_rmse,\n",
    "                \"test_mae\": current_mae,\n",
    "                \"test_r2\": current_r2\n",
    "            }\n",
    "\n",
    "            mlflow.log_metrics(current_metrics, run_id=child_run.info.run_id)\n",
    "            mlflow.log_metrics(current_metrics, run_id=parent_run.info.run_id, step=attempt)\n",
    "\n",
    "            if latest_run is None:\n",
    "                print(\"✅ No previous run found, this will be our baseline\")\n",
    "                best_run = child_run\n",
    "                improvement_found = True\n",
    "                break\n",
    "\n",
    "          # Compare metrics\n",
    "            improvement = compare_metrics(\n",
    "                client,\n",
    "                child_run.info.run_id,\n",
    "                latest_run.info.run_id,\n",
    "                {\n",
    "                    \"test_r2\": \"higher\",\n",
    "                    \"test_rmse\": \"lower\",\n",
    "                    \"test_mae\": \"lower\",\n",
    "                }\n",
    "            )\n",
    "\n",
    "            # Print improvement status\n",
    "            for metric, result in improvement.items():\n",
    "                print(f\"Improvement on {metric}: {'Yes' if result else 'No'}\")\n",
    "\n",
    "            if all(improvement.values()):\n",
    "                print(\"✅ Found better performing model!\")\n",
    "                best_run = child_run\n",
    "                improvement_found = True\n",
    "                break\n",
    "\n",
    "\n",
    "    # After all attempts (or early exit)\n",
    "    if improvement_found:\n",
    "        print(f\"\\n🎉 Found improved model after {attempt} attempts\")\n",
    "        model_uri = f\"runs:/{best_run.info.run_id}/model\"\n",
    "        model_version = mlflow.register_model(model_uri, model_name)\n",
    "        client.set_registered_model_alias(name=model_name, alias=\"dev\", version=model_version.version)\n",
    "        latest_run = best_run\n",
    "        print(f\"Model registered as '{model_name}' version {model_version.version}\")\n",
    "    else:\n",
    "        print(f\"\\n🔴 No improvement found after {max_search_attempts} attempts\")\n",
    "        # Close the experiment as failure if no improvements found\n",
    "        mlflow.end_run('FAILED')\n",
    "        if latest_run:\n",
    "            print(\"Keeping the previous best model\")\n",
    "        else:\n",
    "            print(\"No model was registered (no baseline found)\")"
   ],
   "outputs": [
    {
     "name": "stdout",
     "output_type": "stream",
     "text": [
      "Starting hyperparameter search under parent run 22e4f935944a4d3eb780b14ffc2b1257\n",
      "\n",
      "=== Attempt 1/5 ===\n",
      "Starting nested run 212660102cba4dd9a8285d34c35bf920\n",
      "Improvement on test_r2: No\n",
      "Improvement on test_rmse: No\n",
      "Improvement on test_mae: No\n",
      "🏃 View run singularity-flightdeck-601-attempt-1 at: http://localhost:5000/#/experiments/1/runs/212660102cba4dd9a8285d34c35bf920\n",
      "🧪 View experiment at: http://localhost:5000/#/experiments/1\n",
      "\n",
      "=== Attempt 2/5 ===\n",
      "Starting nested run 7818289df4c14415a00d99b1fd29edaf\n",
      "Improvement on test_r2: No\n",
      "Improvement on test_rmse: No\n",
      "Improvement on test_mae: No\n",
      "🏃 View run singularity-flightdeck-601-attempt-2 at: http://localhost:5000/#/experiments/1/runs/7818289df4c14415a00d99b1fd29edaf\n",
      "🧪 View experiment at: http://localhost:5000/#/experiments/1\n",
      "\n",
      "=== Attempt 3/5 ===\n",
      "Starting nested run b5cfb9cdbac64f21a3d1e368572f4599\n"
     ]
    },
    {
     "name": "stderr",
     "output_type": "stream",
     "text": [
      "Registered model 'diabetes-model' already exists. Creating a new version of this model...\n",
      "2025/05/11 02:18:15 INFO mlflow.store.model_registry.abstract_store: Waiting up to 300 seconds for model version to finish creation. Model name: diabetes-model, version 2\n"
     ]
    },
    {
     "name": "stdout",
     "output_type": "stream",
     "text": [
      "Improvement on test_r2: Yes\n",
      "Improvement on test_rmse: Yes\n",
      "Improvement on test_mae: Yes\n",
      "✅ Found better performing model!\n",
      "🏃 View run singularity-flightdeck-601-attempt-3 at: http://localhost:5000/#/experiments/1/runs/b5cfb9cdbac64f21a3d1e368572f4599\n",
      "🧪 View experiment at: http://localhost:5000/#/experiments/1\n",
      "\n",
      "🎉 Found improved model after 3 attempts\n",
      "Model registered as 'diabetes-model' version 2\n",
      "🏃 View run singularity-flightdeck-601 at: http://localhost:5000/#/experiments/1/runs/22e4f935944a4d3eb780b14ffc2b1257\n",
      "🧪 View experiment at: http://localhost:5000/#/experiments/1\n"
     ]
    },
    {
     "name": "stderr",
     "output_type": "stream",
     "text": [
      "Created version '2' of model 'diabetes-model'.\n"
     ]
    }
   ],
   "execution_count": 86
  },
  {
   "cell_type": "markdown",
   "id": "23d22371f1a7b8d7",
   "metadata": {},
   "source": [
    "## Step 5: Load and Use the Model"
   ]
  },
  {
   "cell_type": "code",
   "id": "4be614b359291964",
   "metadata": {
    "ExecuteTime": {
     "end_time": "2025-05-11T00:18:15.991967Z",
     "start_time": "2025-05-11T00:18:15.863213Z"
    }
   },
   "source": [
    "# Get the model version (correct approach)\n",
    "\n",
    "latest_version_info = client.get_model_version_by_alias(model_name, \"dev\")\n",
    "print(f\"Loaded model version: {latest_version_info.version}. Alias: {latest_version_info.aliases}\")\n",
    "\n",
    "latest_model = mlflow.pyfunc.load_model(f\"models:/{model_name}/{latest_version_info.version}\")\n",
    "\n",
    "# Convert diabetes data to a Pandas DataFrame\n",
    "X_test = pd.DataFrame(dataset.data, columns=dataset.feature_names)\n",
    "\n",
    "# Make predictions on the diabetes dataset\n",
    "predictions = latest_model.predict(X_test)\n",
    "\n",
    "# Add the predictions to a DataFrame\n",
    "diabetes_result = pd.DataFrame(X_test, columns=dataset.feature_names)\n",
    "# Since we don't have actual classes for the diabetes dataset, we can't add them\n",
    "# diabetes_result[\"actual_class\"] = y_test (commented out as not applicable)\n",
    "\n",
    "# Add the model predictions to the DataFrame\n",
    "diabetes_result[\"predicted_value\"] = predictions\n",
    "\n",
    "diabetes_result[:4]"
   ],
   "outputs": [
    {
     "name": "stdout",
     "output_type": "stream",
     "text": [
      "Loaded model version: 2. Alias: ['dev']\n"
     ]
    },
    {
     "data": {
      "text/plain": [
       "        age       sex       bmi        bp        s1        s2        s3  \\\n",
       "0  0.038076  0.050680  0.061696  0.021872 -0.044223 -0.034821 -0.043401   \n",
       "1 -0.001882 -0.044642 -0.051474 -0.026328 -0.008449 -0.019163  0.074412   \n",
       "2  0.085299  0.050680  0.044451 -0.005670 -0.045599 -0.034194 -0.032356   \n",
       "3 -0.089063 -0.044642 -0.011595 -0.036656  0.012191  0.024991 -0.036038   \n",
       "\n",
       "         s4        s5        s6  predicted_value  \n",
       "0 -0.002592  0.019907 -0.017646       198.385505  \n",
       "1 -0.039493 -0.068332 -0.092204        87.604452  \n",
       "2 -0.002592  0.002861 -0.025930       174.786450  \n",
       "3  0.034309  0.022688 -0.009362       165.110134  "
      ],
      "text/html": [
       "<div>\n",
       "<style scoped>\n",
       "    .dataframe tbody tr th:only-of-type {\n",
       "        vertical-align: middle;\n",
       "    }\n",
       "\n",
       "    .dataframe tbody tr th {\n",
       "        vertical-align: top;\n",
       "    }\n",
       "\n",
       "    .dataframe thead th {\n",
       "        text-align: right;\n",
       "    }\n",
       "</style>\n",
       "<table border=\"1\" class=\"dataframe\">\n",
       "  <thead>\n",
       "    <tr style=\"text-align: right;\">\n",
       "      <th></th>\n",
       "      <th>age</th>\n",
       "      <th>sex</th>\n",
       "      <th>bmi</th>\n",
       "      <th>bp</th>\n",
       "      <th>s1</th>\n",
       "      <th>s2</th>\n",
       "      <th>s3</th>\n",
       "      <th>s4</th>\n",
       "      <th>s5</th>\n",
       "      <th>s6</th>\n",
       "      <th>predicted_value</th>\n",
       "    </tr>\n",
       "  </thead>\n",
       "  <tbody>\n",
       "    <tr>\n",
       "      <th>0</th>\n",
       "      <td>0.038076</td>\n",
       "      <td>0.050680</td>\n",
       "      <td>0.061696</td>\n",
       "      <td>0.021872</td>\n",
       "      <td>-0.044223</td>\n",
       "      <td>-0.034821</td>\n",
       "      <td>-0.043401</td>\n",
       "      <td>-0.002592</td>\n",
       "      <td>0.019907</td>\n",
       "      <td>-0.017646</td>\n",
       "      <td>198.385505</td>\n",
       "    </tr>\n",
       "    <tr>\n",
       "      <th>1</th>\n",
       "      <td>-0.001882</td>\n",
       "      <td>-0.044642</td>\n",
       "      <td>-0.051474</td>\n",
       "      <td>-0.026328</td>\n",
       "      <td>-0.008449</td>\n",
       "      <td>-0.019163</td>\n",
       "      <td>0.074412</td>\n",
       "      <td>-0.039493</td>\n",
       "      <td>-0.068332</td>\n",
       "      <td>-0.092204</td>\n",
       "      <td>87.604452</td>\n",
       "    </tr>\n",
       "    <tr>\n",
       "      <th>2</th>\n",
       "      <td>0.085299</td>\n",
       "      <td>0.050680</td>\n",
       "      <td>0.044451</td>\n",
       "      <td>-0.005670</td>\n",
       "      <td>-0.045599</td>\n",
       "      <td>-0.034194</td>\n",
       "      <td>-0.032356</td>\n",
       "      <td>-0.002592</td>\n",
       "      <td>0.002861</td>\n",
       "      <td>-0.025930</td>\n",
       "      <td>174.786450</td>\n",
       "    </tr>\n",
       "    <tr>\n",
       "      <th>3</th>\n",
       "      <td>-0.089063</td>\n",
       "      <td>-0.044642</td>\n",
       "      <td>-0.011595</td>\n",
       "      <td>-0.036656</td>\n",
       "      <td>0.012191</td>\n",
       "      <td>0.024991</td>\n",
       "      <td>-0.036038</td>\n",
       "      <td>0.034309</td>\n",
       "      <td>0.022688</td>\n",
       "      <td>-0.009362</td>\n",
       "      <td>165.110134</td>\n",
       "    </tr>\n",
       "  </tbody>\n",
       "</table>\n",
       "</div>"
      ]
     },
     "execution_count": 87,
     "metadata": {},
     "output_type": "execute_result"
    }
   ],
   "execution_count": 87
  },
  {
   "metadata": {
    "ExecuteTime": {
     "end_time": "2025-05-11T00:18:16.118956Z",
     "start_time": "2025-05-11T00:18:16.022759Z"
    }
   },
   "cell_type": "code",
   "source": [
    "\n",
    "model = mlflow.pyfunc.load_model(\"models:/diabetes-model@dev\")\n",
    "print(model)"
   ],
   "id": "4b906cae924e60e0",
   "outputs": [
    {
     "name": "stdout",
     "output_type": "stream",
     "text": [
      "mlflow.pyfunc.loaded_model:\n",
      "  artifact_path: model\n",
      "  flavor: mlflow.sklearn\n",
      "  run_id: b5cfb9cdbac64f21a3d1e368572f4599\n",
      "\n"
     ]
    }
   ],
   "execution_count": 88
  },
  {
   "metadata": {},
   "cell_type": "markdown",
   "source": "### Invoke model server with CURL",
   "id": "81aa8a48def85d79"
  },
  {
   "metadata": {
    "ExecuteTime": {
     "end_time": "2025-05-11T00:18:16.410762Z",
     "start_time": "2025-05-11T00:18:16.156001Z"
    }
   },
   "cell_type": "code",
   "source": [
    "%%bash\n",
    "curl -X POST -s http://localhost:8080/v2/models/diabetes-model/infer \\\n",
    "     -H \"Content-Type: application/json\" \\\n",
    "     -d '{\n",
    "           \"inputs\": [\n",
    "             {\n",
    "               \"name\": \"input-0\",\n",
    "               \"shape\": [1, 10],\n",
    "               \"datatype\": \"FP64\",\n",
    "               \"data\": [0.038076, 0.050680, 0.061696, 0.021872, -0.044223, -0.034821, -0.043401, -0.002592, 0.019907, -0.017646]\n",
    "             }\n",
    "           ]\n",
    "         }' | jq\n"
   ],
   "id": "5be957645099ac47",
   "outputs": [
    {
     "name": "stdout",
     "output_type": "stream",
     "text": [
      "{\n",
      "  \"model_name\": \"diabetes-model\",\n",
      "  \"id\": \"2a3a0901-d907-4f15-a097-420957fe9fd1\",\n",
      "  \"parameters\": {\n",
      "    \"content_type\": \"np\"\n",
      "  },\n",
      "  \"outputs\": [\n",
      "    {\n",
      "      \"name\": \"output-1\",\n",
      "      \"shape\": [\n",
      "        1,\n",
      "        1\n",
      "      ],\n",
      "      \"datatype\": \"FP64\",\n",
      "      \"parameters\": {\n",
      "        \"content_type\": \"np\"\n",
      "      },\n",
      "      \"data\": [\n",
      "        205.0396128233079\n",
      "      ]\n",
      "    }\n",
      "  ]\n",
      "}\n"
     ]
    }
   ],
   "execution_count": 89
  },
  {
   "metadata": {
    "ExecuteTime": {
     "end_time": "2025-05-11T00:19:15.210137Z",
     "start_time": "2025-05-11T00:19:15.129042Z"
    }
   },
   "cell_type": "code",
   "source": [
    "%%bash\n",
    "curl -X GET -s http://localhost:8080/v2/models/diabetes-model | jq\n"
   ],
   "id": "c83be6574f1c4365",
   "outputs": [
    {
     "name": "stdout",
     "output_type": "stream",
     "text": [
      "{\n",
      "  \"name\": \"diabetes-model\",\n",
      "  \"versions\": [],\n",
      "  \"platform\": \"\",\n",
      "  \"inputs\": [\n",
      "    {\n",
      "      \"name\": \"input-0\",\n",
      "      \"datatype\": \"FP64\",\n",
      "      \"shape\": [\n",
      "        -1,\n",
      "        10\n",
      "      ],\n",
      "      \"parameters\": {\n",
      "        \"content_type\": \"np\"\n",
      "      }\n",
      "    }\n",
      "  ],\n",
      "  \"outputs\": [\n",
      "    {\n",
      "      \"name\": \"output-0\",\n",
      "      \"datatype\": \"FP64\",\n",
      "      \"shape\": [\n",
      "        -1\n",
      "      ],\n",
      "      \"parameters\": {\n",
      "        \"content_type\": \"np\"\n",
      "      }\n",
      "    }\n",
      "  ],\n",
      "  \"parameters\": {\n",
      "    \"content_type\": \"np\"\n",
      "  }\n",
      "}\n"
     ]
    }
   ],
   "execution_count": 94
  },
  {
   "metadata": {
    "ExecuteTime": {
     "end_time": "2025-05-11T00:18:16.489392Z",
     "start_time": "2025-05-11T00:18:16.432671Z"
    }
   },
   "cell_type": "code",
   "source": [
    "%%bash\n",
    "\n",
    "\n",
    "curl -s -X POST http://localhost:7000/invocations \\\n",
    " -H \"Content-Type: application/json\" \\\n",
    "  -d '{\"dataframe_split\": {\"columns\": [\"age\", \"sex\", \"bmi\", \"bp\", \"s1\", \"s2\", \"s3\", \"s4\", \"s5\", \"s6\"], \"data\": [[0.038076, 0.050680, 0.061696, 0.021872, -0.044223, -0.034821, -0.043401, -0.002592, 0.019907, -0.017646]]}}' \\\n",
    "  | jq\n"
   ],
   "id": "17251b63c3ae65ae",
   "outputs": [
    {
     "name": "stdout",
     "output_type": "stream",
     "text": [
      "{\n",
      "  \"predictions\": [\n",
      "    205.0396128233079\n",
      "  ]\n",
      "}\n"
     ]
    }
   ],
   "execution_count": 90
  },
  {
   "metadata": {
    "ExecuteTime": {
     "end_time": "2025-05-11T01:02:14.476104Z",
     "start_time": "2025-05-11T01:02:14.266723Z"
    }
   },
   "cell_type": "code",
   "source": [
    "%%bash\n",
    "curl -s -X POST http://localhost:8080/invocations \\\n",
    " -H \"Content-Type: application/json\" \\\n",
    "  -d '{\"dataframe_split\": {\"columns\": [\"age\", \"sex\", \"bmi\", \"bp\", \"s1\", \"s2\", \"s3\", \"s4\", \"s5\", \"s6\"], \"data\": [[0.038076, 0.050680, 0.061696, 0.021872, -0.044223, -0.034821, -0.043401, -0.002592, 0.019907, -0.017646]]}}' \\\n",
    "  | jq\n",
    "\n"
   ],
   "id": "52b206f88cc5014b",
   "outputs": [
    {
     "name": "stdout",
     "output_type": "stream",
     "text": [
      "{\n",
      "  \"predictions\": [\n",
      "    198.16176676162456\n",
      "  ]\n",
      "}\n"
     ]
    },
    {
     "name": "stderr",
     "output_type": "stream",
     "text": [
      "python(80056) MallocStackLogging: can't turn off malloc stack logging because it was not enabled.\n"
     ]
    }
   ],
   "execution_count": 156
  },
  {
   "metadata": {
    "ExecuteTime": {
     "end_time": "2025-05-12T08:46:30.702132Z",
     "start_time": "2025-05-12T08:46:29.854802Z"
    }
   },
   "cell_type": "code",
   "source": [
    "import requests\n",
    "\n",
    "inference_request = {\n",
    "    \"dataframe_split\": {\n",
    "        \"columns\": [\"age\", \"sex\", \"bmi\", \"bp\", \"s1\", \"s2\", \"s3\", \"s4\", \"s5\", \"s6\"],\n",
    "        \"data\": [[0.138076, 0.050680, 0.061696, 0.021872, -0.044223, -0.034821, -0.043401, -0.002592, 0.019907, -0.017646]]\n",
    "    }\n",
    "}\n",
    "\n",
    "endpoint = \"http://localhost:8080/invocations\"\n",
    "response = requests.post(endpoint, json=inference_request)\n",
    "\n",
    "response.json()"
   ],
   "id": "fa53fa3995bdf3ef",
   "outputs": [
    {
     "data": {
      "text/plain": [
       "{'predictions': [197.4015955647332]}"
      ]
     },
     "execution_count": 157,
     "metadata": {},
     "output_type": "execute_result"
    }
   ],
   "execution_count": 157
  }
 ],
 "metadata": {
  "kernelspec": {
   "display_name": "Python 3 (ipykernel)",
   "language": "python",
   "name": "python3"
  },
  "language_info": {
   "codemirror_mode": {
    "name": "ipython",
    "version": 3
   },
   "file_extension": ".py",
   "mimetype": "text/x-python",
   "name": "python",
   "nbconvert_exporter": "python",
   "pygments_lexer": "ipython3",
   "version": "3.10.16"
  }
 },
 "nbformat": 4,
 "nbformat_minor": 5
}
