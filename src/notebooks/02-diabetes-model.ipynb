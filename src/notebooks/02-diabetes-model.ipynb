{
 "cells": [
  {
   "metadata": {},
   "cell_type": "markdown",
   "source": "# Simple Workflow with MLFlow and S3",
   "id": "de2d234cac2362cc"
  },
  {
   "metadata": {},
   "cell_type": "markdown",
   "source": "## Setup",
   "id": "31598a8305863761"
  },
  {
   "metadata": {},
   "cell_type": "markdown",
   "source": "#### Set up environment\n",
   "id": "36951bffc8710a"
  },
  {
   "metadata": {},
   "cell_type": "markdown",
   "source": "Import all libraries and extensions",
   "id": "4bea0b44bd95cc17"
  },
  {
   "metadata": {
    "ExecuteTime": {
     "end_time": "2025-05-15T12:13:19.720070Z",
     "start_time": "2025-05-15T12:13:17.870757Z"
    }
   },
   "cell_type": "code",
   "source": [
    "import sys\n",
    "sys.path.append(\"./extensions\")\n",
    "\n",
    "%load_ext skip_kernel_extension\n",
    "\n",
    "from typing import Dict\n",
    "import os\n",
    "import json\n",
    "\n",
    "import random\n",
    "import requests\n",
    "\n",
    "import mlflow\n",
    "import numpy as np\n",
    "import pandas as pd\n",
    "\n",
    "from mlflow import MlflowClient\n",
    "from sklearn import datasets\n",
    "from sklearn.ensemble import RandomForestRegressor\n",
    "from sklearn.metrics import mean_squared_error, mean_absolute_error, r2_score\n",
    "from sklearn.model_selection import train_test_split\n"
   ],
   "id": "ae5b84b877af0f4f",
   "outputs": [],
   "execution_count": 1
  },
  {
   "metadata": {},
   "cell_type": "markdown",
   "source": "Set default values for env variables. These will be overwritten when running inside docker container.",
   "id": "c70598b7d23b54b6"
  },
  {
   "metadata": {
    "ExecuteTime": {
     "end_time": "2025-05-15T12:13:19.843802Z",
     "start_time": "2025-05-15T12:13:19.840695Z"
    }
   },
   "cell_type": "code",
   "source": [
    "\n",
    "# Defaults to be changed when run inside docker\n",
    "os.environ.setdefault('AWS_ACCESS_KEY_ID', 'admin')\n",
    "os.environ.setdefault('AWS_SECRET_ACCESS_KEY', 'admin123')\n",
    "os.environ.setdefault('MLFLOW_S3_ENDPOINT_URL', 'http://localhost:9000')\n",
    "os.environ.setdefault('MLFLOW_TRACKING_URI', 'http://localhost:5000')\n",
    "os.environ.setdefault('SKIP_INFERENCE', 'false')\n",
    "\n",
    "# Set variables\n",
    "aws_access_key_id = os.environ['AWS_ACCESS_KEY_ID']\n",
    "aws_secret_access_key = os.environ['AWS_SECRET_ACCESS_KEY']\n",
    "mlflow_s3_endpoint_url = os.environ['MLFLOW_S3_ENDPOINT_URL']\n",
    "mlflow_tracking_uri = os.environ['MLFLOW_TRACKING_URI']\n",
    "skip_inference = os.environ['SKIP_INFERENCE'].lower() == 'true'\n",
    "\n",
    "# For inference\n",
    "os.environ.setdefault('MODEL_SERVER_URL', 'http://localhost:8080')\n",
    "model_server_url = os.environ['MODEL_SERVER_URL']\n"
   ],
   "id": "f1f3c52899d6a74",
   "outputs": [],
   "execution_count": 2
  },
  {
   "metadata": {},
   "cell_type": "markdown",
   "source": "MLflow configuration",
   "id": "f386c8a1d19bcb68"
  },
  {
   "cell_type": "code",
   "id": "6ac25aa7275c3b52",
   "metadata": {
    "ExecuteTime": {
     "end_time": "2025-05-15T12:13:19.934741Z",
     "start_time": "2025-05-15T12:13:19.872382Z"
    }
   },
   "source": [
    "experiment_name = \"Diabetes Model\"\n",
    "model_name = \"diabetes-model\"\n",
    "\n",
    "mlflow_client = MlflowClient(\n",
    "    tracking_uri=os.getenv(\"MLFLOW_TRACKING_URI\"),\n",
    "    registry_uri=os.getenv(\"MLFLOW_TRACKING_URI\"),\n",
    ")\n",
    "\n",
    "mlflow.set_tracking_uri(uri=os.getenv(\"MLFLOW_TRACKING_URI\"))\n",
    "experiment = mlflow.set_experiment(experiment_name)\n"
   ],
   "outputs": [
    {
     "name": "stderr",
     "output_type": "stream",
     "text": [
      "2025/05/15 14:13:19 INFO mlflow.tracking.fluent: Experiment with name 'Diabetes Model' does not exist. Creating a new experiment.\n"
     ]
    }
   ],
   "execution_count": 3
  },
  {
   "cell_type": "markdown",
   "id": "96cb62f8bdfb4183",
   "metadata": {},
   "source": "##### Add some helper functions"
  },
  {
   "cell_type": "code",
   "id": "2189c29ae9be2f05",
   "metadata": {
    "ExecuteTime": {
     "end_time": "2025-05-15T12:13:19.947555Z",
     "start_time": "2025-05-15T12:13:19.943054Z"
    }
   },
   "source": [
    "def compare_metrics(client: MlflowClient, current_run_id: str, baseline_run_id: str, metrics_to_compare: Dict[str, str]):\n",
    "    \"\"\"\n",
    "    Compare the performance of two runs based on given metrics.\n",
    "\n",
    "    Args:\n",
    "        client (object): Client object to interact with the system.\n",
    "        current_run_id (str): ID of the current run.\n",
    "        baseline_run_id (str): ID of the baseline run.\n",
    "        metrics_to_compare (dict): Dictionary of metrics to compare, where each key is a metric name and its value is a string indicating whether \"higher\" or \"lower\" performance is better.\n",
    "\n",
    "    Returns:\n",
    "        dict: A dictionary containing boolean values for each metric in `metrics_to_compare`, indicating whether the current run performed better than the baseline run.\n",
    "    \"\"\"\n",
    "\n",
    "    # Get the metrics data from the runs\n",
    "    current_run = client.get_run(current_run_id)\n",
    "    baseline_run = client.get_run(baseline_run_id)\n",
    "\n",
    "    current_metrics = current_run.data.metrics\n",
    "    baseline_metrics = baseline_run.data.metrics\n",
    "\n",
    "    # Initialize a dictionary to store the comparison results\n",
    "    improvement = {metric: False for metric in metrics_to_compare}\n",
    "\n",
    "    # Compare each metric\n",
    "    for metric, direction in metrics_to_compare.items():\n",
    "        if direction.lower() == \"higher\":\n",
    "            current_improvement = current_metrics.get(metric) > baseline_metrics.get(metric)\n",
    "        elif direction.lower() == \"lower\":\n",
    "            current_improvement = current_metrics.get(metric) < baseline_metrics.get(metric)\n",
    "        else:\n",
    "            raise ValueError(f\"Invalid comparison direction for metric '{metric}'. Use 'higher' or 'lower'.\")\n",
    "\n",
    "        improvement[metric] = current_improvement\n",
    "\n",
    "    return improvement\n",
    "\n",
    "\n",
    "def generate_random_run_name():\n",
    "    \"\"\"\n",
    "    Generates a random (semi) aviation-related name in slug form.\n",
    "\n",
    "    Returns:\n",
    "        str: A string with the name in lowercase, containing an adjective and noun, followed by a 3-digit suffix.\n",
    "    \"\"\"\n",
    "    adjectives = [\n",
    "        \"Transonic\", \"Hypersonic\", \"Afterburning\", \"Turbocharged\",\n",
    "        \"Supersonic\", \"Machbreaking\", \"Scramjet\", \"Thrustvectored\",\n",
    "        \"Stratospheric\", \"Tropospheric\", \"Cloudpiercing\", \"Jetstreamed\",\n",
    "        \"Contrailswept\", \"Headwinded\", \"Tailwinded\", \"Crosswinded\",\n",
    "        \"Flybywire\", \"Autothrottle\", \"Glasscockpit\", \"Headup\",\n",
    "        \"Skybound\", \"Runwaylit\", \"Aileronrolled\", \"Flapsdown\",\n",
    "        \"Chocksaway\", \"Clearedfortakeoff\", \"Finalapproach\", \"Goaround\",\n",
    "        \"Quantum\", \"Neural\", \"Plasma\", \"Gravitic\", \"Singularity\",\n",
    "        \"Nanotech\", \"Exo\", \"Hyperspace\", \"Photon\", \"Cloaking\",\n",
    "        \"Tachyon\", \"Warp\", \"Zero-G\", \"Cybernetic\", \"Holographic\",\n",
    "        \"Ion\", \"Antimatter\", \"Bioengineered\", \"Psi\", \"Chronojump\"\n",
    "    ]\n",
    "\n",
    "    nouns = [\n",
    "        \"Turbofan\", \"Tailfin\", \"Flaps\", \"Ailerons\", \"Elevator\", \"Rudder\",\n",
    "        \"Spoilers\", \"Slats\", \"Throttle\", \"Yawdamper\", \"Stick\", \"Pedals\",\n",
    "        \"Tarmac\", \"Hangar\", \"Airstrip\", \"Runway\", \"Taxiway\", \"Apron\",\n",
    "        \"Jetbridge\", \"Windsock\", \"Glideslope\", \"Localizer\", \"Gliderail\",\n",
    "        \"Flightdeck\", \"Blackbox\", \"Transponder\", \"Squawkbox\",\n",
    "        \"Takeoff\", \"Landing\", \"Approach\", \"Holdingpattern\",\n",
    "        \"Jumpgate\", \"Thruster\", \"Pulsejet\", \"Shield\", \"Wormhole\",\n",
    "        \"Drone\", \"Neurohelm\", \"Gravcoil\", \"Phasewings\", \"Starfighter\",\n",
    "        \"Titanium\", \"Voidship\", \"Lasercannon\", \"AI\", \"Stasis\",\n",
    "        \"Dyson\", \"Warpcore\", \"Omnitool\", \"Singularity\", \"Hoverpad\"\n",
    "    ]\n",
    "\n",
    "    random_adjective = random.choice(adjectives).lower()\n",
    "    random_noun = random.choice(nouns).lower()\n",
    "\n",
    "    # Generate a 3-digit suffix\n",
    "    suffix = str(random.randint(100, 999))\n",
    "\n",
    "    return f\"{random_adjective}-{random_noun}-{suffix}\""
   ],
   "outputs": [],
   "execution_count": 4
  },
  {
   "metadata": {},
   "cell_type": "markdown",
   "source": "#### Load datatest and previous metrics",
   "id": "3a6b78ff3009c1c7"
  },
  {
   "metadata": {
    "ExecuteTime": {
     "end_time": "2025-05-15T12:13:19.974730Z",
     "start_time": "2025-05-15T12:13:19.966919Z"
    }
   },
   "cell_type": "code",
   "source": "dataset = datasets.load_diabetes()",
   "id": "563ce81b4ec961",
   "outputs": [],
   "execution_count": 5
  },
  {
   "metadata": {
    "ExecuteTime": {
     "end_time": "2025-05-15T12:13:19.996617Z",
     "start_time": "2025-05-15T12:13:19.986655Z"
    }
   },
   "cell_type": "code",
   "source": [
    "latest_run = None\n",
    "latest_metrics = {\n",
    "    \"test_rmse\": None,\n",
    "    \"test_mae\": None,\n",
    "    \"test_r2\": None\n",
    "}\n",
    "res = []\n",
    "\n",
    "if experiment:\n",
    "    res = mlflow_client.search_runs(\n",
    "        experiment.experiment_id,\n",
    "        order_by=[\"attributes.start_time DESC\"],\n",
    "        max_results=1\n",
    "    )\n",
    "    if len(res) > 0:\n",
    "        latest_run = res[0]\n",
    "        latest_metrics = latest_run.data.metrics\n"
   ],
   "id": "641e57fce74b6715",
   "outputs": [],
   "execution_count": 6
  },
  {
   "cell_type": "markdown",
   "id": "46ffbf90ccc51354",
   "metadata": {},
   "source": "## Model Training with MLflow"
  },
  {
   "cell_type": "code",
   "id": "ac9ed1a2c64b5cf6",
   "metadata": {
    "ExecuteTime": {
     "end_time": "2025-05-15T12:13:23.551302Z",
     "start_time": "2025-05-15T12:13:20.007468Z"
    }
   },
   "source": [
    "# Define the hyperparameter ranges\n",
    "n_estimators_range = (10, 600)\n",
    "max_depth_range = (5, 30)\n",
    "max_features_range = (2, 20)\n",
    "min_samples_leaf_range = (1, 100)\n",
    "\n",
    "max_search_attempts = 5\n",
    "\n",
    "# Create a parent run for all the attempts\n",
    "with mlflow.start_run(run_name=generate_random_run_name()) as parent_run:\n",
    "    # Enable MLflow's automatic experiment tracking for scikit-learn\n",
    "    mlflow.sklearn.autolog(\n",
    "        log_models=False, # Model is logged separately below\n",
    "    )\n",
    "\n",
    "    print(f\"Starting hyperparameter search under parent run {parent_run.info.run_id}\")\n",
    "\n",
    "    best_run = None\n",
    "    improvement_found = False\n",
    "    for attempt in range(1, max_search_attempts + 1):\n",
    "        print(f\"\\n=== Attempt {attempt}/{max_search_attempts} ===\")\n",
    "\n",
    "        # Randomize the hyperparameters\n",
    "        n_estimators = random.randint(*n_estimators_range)\n",
    "        max_depth = random.randint(*max_depth_range)\n",
    "        max_features = random.randint(*max_features_range)\n",
    "        min_samples_leaf = random.randint(*min_samples_leaf_range)\n",
    "        random_seed = random.randint(0, 1000)\n",
    "\n",
    "        with mlflow.start_run(run_name=f\"{parent_run.info.run_name}-attempt-{attempt}\", nested=True) as child_run:\n",
    "            print(f\"Starting nested run {child_run.info.run_id}\")\n",
    "\n",
    "            # Load the training dataset\n",
    "            X_train, X_test, y_train, y_test = train_test_split(dataset.data, dataset.target, random_state=random_seed)\n",
    "\n",
    "            mlflow.log_param(\"n_estimators\", n_estimators)\n",
    "            mlflow.log_param(\"max_depth\", max_depth)\n",
    "            mlflow.log_param(\"max_features\", max_features)\n",
    "            mlflow.log_param(\"min_samples_leaf\", min_samples_leaf)\n",
    "\n",
    "            rf = RandomForestRegressor(\n",
    "                n_estimators=n_estimators,\n",
    "                max_depth=max_depth,\n",
    "                max_features=max_features,\n",
    "                min_samples_leaf=min_samples_leaf,\n",
    "                random_state=random_seed\n",
    "            )\n",
    "\n",
    "            # MLflow triggers logging automatically upon model fitting\n",
    "            rf.fit(X_train, y_train)\n",
    "            # Make predictions\n",
    "            y_pred = rf.predict(X_test)\n",
    "\n",
    "            # Calculate and log regression metrics\n",
    "            current_rmse = np.sqrt(mean_squared_error(y_test, y_pred))\n",
    "            current_mae = mean_absolute_error(y_test, y_pred)\n",
    "            current_r2 = r2_score(y_test, y_pred)\n",
    "\n",
    "            current_metrics = {\n",
    "                \"test_rmse\": current_rmse,\n",
    "                \"test_mae\": current_mae,\n",
    "                \"test_r2\": current_r2\n",
    "            }\n",
    "\n",
    "            mlflow.log_metrics(current_metrics, run_id=child_run.info.run_id)\n",
    "            mlflow.log_metrics(current_metrics, run_id=parent_run.info.run_id, step=attempt)\n",
    "\n",
    "            # Log the model with dependencies and metadata\n",
    "            mlflow.sklearn.log_model(\n",
    "                sk_model=rf,\n",
    "                artifact_path=\"model\",\n",
    "                #registered_model_name=model_name,\n",
    "                extra_pip_requirements=[\"boto3==1.38.16\"],\n",
    "            \n",
    "                input_example=X_train[:5],  # Example input for schema inference\n",
    "                signature=mlflow.models.infer_signature(X_train, y_pred)  # Model signature\n",
    "            )\n",
    "\n",
    "            if latest_run is None:\n",
    "                print(\"✅ No previous run found, this will be our baseline\")\n",
    "                best_run = child_run\n",
    "                improvement_found = True\n",
    "                break\n",
    "\n",
    "          # Compare metrics\n",
    "            improvement = compare_metrics(\n",
    "                mlflow_client,\n",
    "                child_run.info.run_id,\n",
    "                latest_run.info.run_id,\n",
    "                {\n",
    "                    \"test_r2\": \"higher\",\n",
    "                    \"test_rmse\": \"lower\",\n",
    "                    \"test_mae\": \"lower\",\n",
    "                }\n",
    "            )\n",
    "\n",
    "            # Print improvement status\n",
    "            for metric, result in improvement.items():\n",
    "                print(f\"Improvement on {metric}: {'Yes' if result else 'No'}\")\n",
    "\n",
    "            if all(improvement.values()):\n",
    "                print(\"✅ Found better performing model!\")\n",
    "                best_run = child_run\n",
    "                improvement_found = True\n",
    "                break\n",
    "\n",
    "\n",
    "    # After all attempts (or early exit)\n",
    "    if improvement_found:\n",
    "        print(f\"\\n🎉 Found improved model after {attempt} attempts\")\n",
    "        model_uri = f\"runs:/{best_run.info.run_id}/model\"\n",
    "        model_version = mlflow.register_model(model_uri, model_name)\n",
    "        mlflow_client.set_registered_model_alias(name=model_name, alias=\"dev\", version=model_version.version)\n",
    "        latest_run = best_run\n",
    "        print(f\"Model registered as '{model_name}' version {model_version.version}\")\n",
    "    else:\n",
    "        print(f\"\\n🔴 No improvement found after {max_search_attempts} attempts\")\n",
    "        # Close the experiment as failure if no improvements found\n",
    "        mlflow.end_run('FAILED')\n",
    "        if latest_run:\n",
    "            print(\"Keeping the previous best model\")\n",
    "        else:\n",
    "            print(\"No model was registered (no baseline found)\")"
   ],
   "outputs": [
    {
     "name": "stdout",
     "output_type": "stream",
     "text": [
      "Starting hyperparameter search under parent run b6c28183f2b34c76a7505b4c8e015a28\n",
      "\n",
      "=== Attempt 1/5 ===\n",
      "Starting nested run 66b2b43f67e844a7976f3877cf8383fa\n"
     ]
    },
    {
     "name": "stderr",
     "output_type": "stream",
     "text": [
      "Successfully registered model 'diabetes-model'.\n",
      "2025/05/15 14:13:23 INFO mlflow.store.model_registry.abstract_store: Waiting up to 300 seconds for model version to finish creation. Model name: diabetes-model, version 1\n"
     ]
    },
    {
     "name": "stdout",
     "output_type": "stream",
     "text": [
      "✅ No previous run found, this will be our baseline\n",
      "🏃 View run cloudpiercing-windsock-967-attempt-1 at: http://localhost:5000/#/experiments/2/runs/66b2b43f67e844a7976f3877cf8383fa\n",
      "🧪 View experiment at: http://localhost:5000/#/experiments/2\n",
      "\n",
      "🎉 Found improved model after 1 attempts\n",
      "Model registered as 'diabetes-model' version 1\n",
      "🏃 View run cloudpiercing-windsock-967 at: http://localhost:5000/#/experiments/2/runs/b6c28183f2b34c76a7505b4c8e015a28\n",
      "🧪 View experiment at: http://localhost:5000/#/experiments/2\n"
     ]
    },
    {
     "name": "stderr",
     "output_type": "stream",
     "text": [
      "Created version '1' of model 'diabetes-model'.\n"
     ]
    }
   ],
   "execution_count": 7
  },
  {
   "metadata": {},
   "cell_type": "markdown",
   "source": "## Predictions",
   "id": "b8799d8b3b71f5f3"
  },
  {
   "metadata": {},
   "cell_type": "markdown",
   "source": [
    "##### Skip inference cells\n",
    "\n",
    "This checkbox can be marked to skip all subsequent cells during Dagster run."
   ],
   "id": "4107133207038d60"
  },
  {
   "metadata": {
    "ExecuteTime": {
     "end_time": "2025-05-15T12:13:23.597949Z",
     "start_time": "2025-05-15T12:13:23.558711Z"
    }
   },
   "cell_type": "code",
   "source": [
    "from ipywidgets import Checkbox\n",
    "\n",
    "skip_inference = Checkbox(\n",
    "    value=os.environ['SKIP_INFERENCE'].lower() == 'true',\n",
    "    description=\"Skip inference\",\n",
    "    disabled=False,\n",
    "    indent=False,\n",
    ")\n",
    "\n",
    "skip_inference"
   ],
   "id": "d8fffda4ceeb7431",
   "outputs": [
    {
     "data": {
      "text/plain": [
       "Checkbox(value=False, description='Skip inference', indent=False)"
      ],
      "application/vnd.jupyter.widget-view+json": {
       "version_major": 2,
       "version_minor": 0,
       "model_id": "071b650916b34448b2565b7025a1ab77"
      }
     },
     "execution_count": 8,
     "metadata": {},
     "output_type": "execute_result"
    }
   ],
   "execution_count": 8
  },
  {
   "cell_type": "markdown",
   "id": "23d22371f1a7b8d7",
   "metadata": {},
   "source": "#### Load the model"
  },
  {
   "metadata": {},
   "cell_type": "markdown",
   "source": "##### Load the model with MLflowClient",
   "id": "9c833e7d71c4dc62"
  },
  {
   "metadata": {
    "ExecuteTime": {
     "end_time": "2025-05-15T12:13:23.790740Z",
     "start_time": "2025-05-15T12:13:23.614454Z"
    }
   },
   "cell_type": "code",
   "source": [
    "%%skip $skip_inference.value\n",
    "\n",
    "latest_version_info = mlflow_client.get_model_version_by_alias(model_name, \"dev\")\n",
    "print(f\"Latest model version: {latest_version_info.version}. Alias: {latest_version_info.aliases}\")\n",
    "\n",
    "# model_uri =\"models:/diabetes-model@dev\"\n",
    "model_uri = f\"models:/{model_name}/{latest_version_info.version}\"\n",
    "\n",
    "latest_model = mlflow.pyfunc.load_model(model_uri)\n",
    "\n",
    "latest_model"
   ],
   "id": "6219b143f778ae12",
   "outputs": [
    {
     "name": "stdout",
     "output_type": "stream",
     "text": [
      "Latest model version: 1. Alias: ['dev']\n"
     ]
    },
    {
     "data": {
      "text/plain": [
       "Downloading artifacts:   0%|          | 0/7 [00:00<?, ?it/s]"
      ],
      "application/vnd.jupyter.widget-view+json": {
       "version_major": 2,
       "version_minor": 0,
       "model_id": "cc7a90545a7c4a4eb0dc9d449ac4a965"
      }
     },
     "metadata": {},
     "output_type": "display_data"
    },
    {
     "data": {
      "text/plain": [
       "mlflow.pyfunc.loaded_model:\n",
       "  artifact_path: model\n",
       "  flavor: mlflow.sklearn\n",
       "  run_id: 66b2b43f67e844a7976f3877cf8383fa"
      ]
     },
     "execution_count": 9,
     "metadata": {},
     "output_type": "execute_result"
    }
   ],
   "execution_count": 9
  },
  {
   "metadata": {},
   "cell_type": "markdown",
   "source": "#### Make predictions for all dataset",
   "id": "e0aafe6034e570e5"
  },
  {
   "metadata": {
    "ExecuteTime": {
     "end_time": "2025-05-15T12:13:23.853254Z",
     "start_time": "2025-05-15T12:13:23.803501Z"
    }
   },
   "cell_type": "code",
   "source": [
    "%%skip $skip_inference.value\n",
    "\n",
    "# Convert diabetes data to a Pandas DataFrame\n",
    "X_test = pd.DataFrame(dataset.data, columns=dataset.feature_names)\n",
    "\n",
    "# Make predictions on the diabetes dataset\n",
    "predictions = latest_model.predict(X_test)\n",
    "\n",
    "# Add the predictions to a DataFrame\n",
    "diabetes_result = pd.DataFrame(X_test, columns=dataset.feature_names)\n",
    "# Since we don't have actual classes for the diabetes dataset, we can't add them\n",
    "# diabetes_result[\"actual_class\"] = y_test (commented out as not applicable)\n",
    "diabetes_result_with_predictions = diabetes_result.copy()\n",
    "\n",
    "# Add the model predictions to the DataFrame\n",
    "diabetes_result_with_predictions[\"predicted_value\"] = predictions\n",
    "\n",
    "print(\"Diabetes result shape:\", diabetes_result_with_predictions.shape)\n",
    "\n",
    "diabetes_result_with_predictions.head()"
   ],
   "id": "df953059cdbc7cf",
   "outputs": [
    {
     "name": "stdout",
     "output_type": "stream",
     "text": [
      "Diabetes result shape: (442, 11)\n"
     ]
    },
    {
     "data": {
      "text/plain": [
       "        age       sex       bmi        bp        s1        s2        s3  \\\n",
       "0  0.038076  0.050680  0.061696  0.021872 -0.044223 -0.034821 -0.043401   \n",
       "1 -0.001882 -0.044642 -0.051474 -0.026328 -0.008449 -0.019163  0.074412   \n",
       "2  0.085299  0.050680  0.044451 -0.005670 -0.045599 -0.034194 -0.032356   \n",
       "3 -0.089063 -0.044642 -0.011595 -0.036656  0.012191  0.024991 -0.036038   \n",
       "4  0.005383 -0.044642 -0.036385  0.021872  0.003935  0.015596  0.008142   \n",
       "\n",
       "         s4        s5        s6  predicted_value  \n",
       "0 -0.002592  0.019907 -0.017646       209.217098  \n",
       "1 -0.039493 -0.068332 -0.092204        89.055554  \n",
       "2 -0.002592  0.002861 -0.025930       199.414439  \n",
       "3  0.034309  0.022688 -0.009362       169.641246  \n",
       "4 -0.002592 -0.031988 -0.046641       114.535943  "
      ],
      "text/html": [
       "<div>\n",
       "<style scoped>\n",
       "    .dataframe tbody tr th:only-of-type {\n",
       "        vertical-align: middle;\n",
       "    }\n",
       "\n",
       "    .dataframe tbody tr th {\n",
       "        vertical-align: top;\n",
       "    }\n",
       "\n",
       "    .dataframe thead th {\n",
       "        text-align: right;\n",
       "    }\n",
       "</style>\n",
       "<table border=\"1\" class=\"dataframe\">\n",
       "  <thead>\n",
       "    <tr style=\"text-align: right;\">\n",
       "      <th></th>\n",
       "      <th>age</th>\n",
       "      <th>sex</th>\n",
       "      <th>bmi</th>\n",
       "      <th>bp</th>\n",
       "      <th>s1</th>\n",
       "      <th>s2</th>\n",
       "      <th>s3</th>\n",
       "      <th>s4</th>\n",
       "      <th>s5</th>\n",
       "      <th>s6</th>\n",
       "      <th>predicted_value</th>\n",
       "    </tr>\n",
       "  </thead>\n",
       "  <tbody>\n",
       "    <tr>\n",
       "      <th>0</th>\n",
       "      <td>0.038076</td>\n",
       "      <td>0.050680</td>\n",
       "      <td>0.061696</td>\n",
       "      <td>0.021872</td>\n",
       "      <td>-0.044223</td>\n",
       "      <td>-0.034821</td>\n",
       "      <td>-0.043401</td>\n",
       "      <td>-0.002592</td>\n",
       "      <td>0.019907</td>\n",
       "      <td>-0.017646</td>\n",
       "      <td>209.217098</td>\n",
       "    </tr>\n",
       "    <tr>\n",
       "      <th>1</th>\n",
       "      <td>-0.001882</td>\n",
       "      <td>-0.044642</td>\n",
       "      <td>-0.051474</td>\n",
       "      <td>-0.026328</td>\n",
       "      <td>-0.008449</td>\n",
       "      <td>-0.019163</td>\n",
       "      <td>0.074412</td>\n",
       "      <td>-0.039493</td>\n",
       "      <td>-0.068332</td>\n",
       "      <td>-0.092204</td>\n",
       "      <td>89.055554</td>\n",
       "    </tr>\n",
       "    <tr>\n",
       "      <th>2</th>\n",
       "      <td>0.085299</td>\n",
       "      <td>0.050680</td>\n",
       "      <td>0.044451</td>\n",
       "      <td>-0.005670</td>\n",
       "      <td>-0.045599</td>\n",
       "      <td>-0.034194</td>\n",
       "      <td>-0.032356</td>\n",
       "      <td>-0.002592</td>\n",
       "      <td>0.002861</td>\n",
       "      <td>-0.025930</td>\n",
       "      <td>199.414439</td>\n",
       "    </tr>\n",
       "    <tr>\n",
       "      <th>3</th>\n",
       "      <td>-0.089063</td>\n",
       "      <td>-0.044642</td>\n",
       "      <td>-0.011595</td>\n",
       "      <td>-0.036656</td>\n",
       "      <td>0.012191</td>\n",
       "      <td>0.024991</td>\n",
       "      <td>-0.036038</td>\n",
       "      <td>0.034309</td>\n",
       "      <td>0.022688</td>\n",
       "      <td>-0.009362</td>\n",
       "      <td>169.641246</td>\n",
       "    </tr>\n",
       "    <tr>\n",
       "      <th>4</th>\n",
       "      <td>0.005383</td>\n",
       "      <td>-0.044642</td>\n",
       "      <td>-0.036385</td>\n",
       "      <td>0.021872</td>\n",
       "      <td>0.003935</td>\n",
       "      <td>0.015596</td>\n",
       "      <td>0.008142</td>\n",
       "      <td>-0.002592</td>\n",
       "      <td>-0.031988</td>\n",
       "      <td>-0.046641</td>\n",
       "      <td>114.535943</td>\n",
       "    </tr>\n",
       "  </tbody>\n",
       "</table>\n",
       "</div>"
      ]
     },
     "execution_count": 10,
     "metadata": {},
     "output_type": "execute_result"
    }
   ],
   "execution_count": 10
  },
  {
   "metadata": {},
   "cell_type": "markdown",
   "source": "#### Use model server",
   "id": "3fecb809c23e659"
  },
  {
   "metadata": {},
   "cell_type": "markdown",
   "source": "Ensure mlserver container is running in docker",
   "id": "a75762637c6d6f0f"
  },
  {
   "metadata": {
    "ExecuteTime": {
     "end_time": "2025-05-15T12:13:51.596526Z",
     "start_time": "2025-05-15T12:13:50.351760Z"
    }
   },
   "cell_type": "code",
   "source": [
    "%%bash\n",
    "[ \"$SKIP_INFERENCE\" = true ] && echo \"SKIP: $SKIP_INFERENCE\" && exit 0\n",
    "\n",
    "docker-compose up -d mlserver\n"
   ],
   "id": "b748691ea2ef020f",
   "outputs": [
    {
     "name": "stderr",
     "output_type": "stream",
     "text": [
      " Container postgres  Running\n",
      " Container minio  Running\n",
      " Container mlflow  Running\n",
      " Container mlserver  Running\n",
      " Container minio  Waiting\n",
      " Container minio  Healthy\n",
      " Container minio  Waiting\n",
      " Container minio  Healthy\n"
     ]
    }
   ],
   "execution_count": 15
  },
  {
   "metadata": {},
   "cell_type": "markdown",
   "source": "##### Make predictions through model server",
   "id": "a2e2c7e25ea3aa90"
  },
  {
   "metadata": {},
   "cell_type": "markdown",
   "source": "Make a single prediction",
   "id": "2403f95c8e4d4e3"
  },
  {
   "metadata": {
    "ExecuteTime": {
     "end_time": "2025-05-15T12:14:01.803428Z",
     "start_time": "2025-05-15T12:14:01.762841Z"
    }
   },
   "cell_type": "code",
   "source": [
    "%%skip $skip_inference.value\n",
    "\n",
    "# select random row\n",
    "row = diabetes_result.sample().iloc[0].to_list() # Select a random row from the dataset\n",
    "\n",
    "response = requests.post(f\"{model_server_url}/invocations\", json={\n",
    "    \"dataframe_split\": {\n",
    "        \"columns\": diabetes_result.columns.to_list(),\n",
    "        \"data\": [row]\n",
    "    }\n",
    "})\n",
    "\n",
    "print(json.dumps(response.json(), indent=4))\n"
   ],
   "id": "fa53fa3995bdf3ef",
   "outputs": [
    {
     "name": "stdout",
     "output_type": "stream",
     "text": [
      "{\n",
      "    \"predictions\": [\n",
      "        90.08090798129774\n",
      "    ]\n",
      "}\n"
     ]
    }
   ],
   "execution_count": 17
  },
  {
   "metadata": {
    "ExecuteTime": {
     "end_time": "2025-05-15T12:14:01.854685Z",
     "start_time": "2025-05-15T12:14:01.830524Z"
    }
   },
   "cell_type": "code",
   "source": [
    "%%skip $skip_inference.value\n",
    "\n",
    "# select first/last rows\n",
    "first_last = pd.concat([\n",
    "    diabetes_result.iloc[[0]],\n",
    "    diabetes_result.iloc[[-1]],\n",
    "    ]\n",
    ")\n",
    "\n",
    "response = requests.post(f\"{model_server_url}/invocations\", json={\n",
    "    \"dataframe_split\": {\n",
    "        \"columns\": diabetes_result.columns.to_list(),\n",
    "        \"data\": first_last.values.tolist()\n",
    "    }\n",
    "})\n",
    "\n",
    "print(json.dumps(response.json(), indent=4))\n"
   ],
   "id": "8461f16681fd1e46",
   "outputs": [
    {
     "name": "stdout",
     "output_type": "stream",
     "text": [
      "{\n",
      "    \"predictions\": [\n",
      "        209.217097558045,\n",
      "        115.24540189015757\n",
      "    ]\n",
      "}\n"
     ]
    }
   ],
   "execution_count": 18
  },
  {
   "metadata": {},
   "cell_type": "markdown",
   "source": "Make prediction for all rows in a dataframe",
   "id": "c63c1540eccf0ac9"
  },
  {
   "metadata": {
    "ExecuteTime": {
     "end_time": "2025-05-15T12:14:01.908619Z",
     "start_time": "2025-05-15T12:14:01.873199Z"
    }
   },
   "cell_type": "code",
   "source": [
    "response = requests.post(f\"{model_server_url}/invocations\", json={\n",
    "    \"dataframe_split\": {\n",
    "        \"columns\": diabetes_result.columns.to_list(),\n",
    "        \"data\": diabetes_result.values.tolist()\n",
    "    }\n",
    "})\n",
    "response_data = response.json()\n",
    "# print(json.dumps(response_data, indent=4))\n",
    "\n",
    "diabetes_result_with_predictions = diabetes_result.copy()\n",
    "diabetes_result_with_predictions['predictions_response'] = response_data[\"predictions\"]\n",
    "\n",
    "diabetes_result_with_predictions"
   ],
   "id": "edb05321c4a89c89",
   "outputs": [
    {
     "data": {
      "text/plain": [
       "          age       sex       bmi        bp        s1        s2        s3  \\\n",
       "0    0.038076  0.050680  0.061696  0.021872 -0.044223 -0.034821 -0.043401   \n",
       "1   -0.001882 -0.044642 -0.051474 -0.026328 -0.008449 -0.019163  0.074412   \n",
       "2    0.085299  0.050680  0.044451 -0.005670 -0.045599 -0.034194 -0.032356   \n",
       "3   -0.089063 -0.044642 -0.011595 -0.036656  0.012191  0.024991 -0.036038   \n",
       "4    0.005383 -0.044642 -0.036385  0.021872  0.003935  0.015596  0.008142   \n",
       "..        ...       ...       ...       ...       ...       ...       ...   \n",
       "437  0.041708  0.050680  0.019662  0.059744 -0.005697 -0.002566 -0.028674   \n",
       "438 -0.005515  0.050680 -0.015906 -0.067642  0.049341  0.079165 -0.028674   \n",
       "439  0.041708  0.050680 -0.015906  0.017293 -0.037344 -0.013840 -0.024993   \n",
       "440 -0.045472 -0.044642  0.039062  0.001215  0.016318  0.015283 -0.028674   \n",
       "441 -0.045472 -0.044642 -0.073030 -0.081413  0.083740  0.027809  0.173816   \n",
       "\n",
       "           s4        s5        s6  predictions_response  \n",
       "0   -0.002592  0.019907 -0.017646            209.217098  \n",
       "1   -0.039493 -0.068332 -0.092204             89.055554  \n",
       "2   -0.002592  0.002861 -0.025930            199.414439  \n",
       "3    0.034309  0.022688 -0.009362            169.641246  \n",
       "4   -0.002592 -0.031988 -0.046641            114.535943  \n",
       "..        ...       ...       ...                   ...  \n",
       "437 -0.002592  0.031193  0.007207            221.892381  \n",
       "438  0.034309 -0.018114  0.044485            121.899325  \n",
       "439 -0.011080 -0.046883  0.015491            116.549395  \n",
       "440  0.026560  0.044529 -0.025930            215.583224  \n",
       "441 -0.039493 -0.004222  0.003064            115.245402  \n",
       "\n",
       "[442 rows x 11 columns]"
      ],
      "text/html": [
       "<div>\n",
       "<style scoped>\n",
       "    .dataframe tbody tr th:only-of-type {\n",
       "        vertical-align: middle;\n",
       "    }\n",
       "\n",
       "    .dataframe tbody tr th {\n",
       "        vertical-align: top;\n",
       "    }\n",
       "\n",
       "    .dataframe thead th {\n",
       "        text-align: right;\n",
       "    }\n",
       "</style>\n",
       "<table border=\"1\" class=\"dataframe\">\n",
       "  <thead>\n",
       "    <tr style=\"text-align: right;\">\n",
       "      <th></th>\n",
       "      <th>age</th>\n",
       "      <th>sex</th>\n",
       "      <th>bmi</th>\n",
       "      <th>bp</th>\n",
       "      <th>s1</th>\n",
       "      <th>s2</th>\n",
       "      <th>s3</th>\n",
       "      <th>s4</th>\n",
       "      <th>s5</th>\n",
       "      <th>s6</th>\n",
       "      <th>predictions_response</th>\n",
       "    </tr>\n",
       "  </thead>\n",
       "  <tbody>\n",
       "    <tr>\n",
       "      <th>0</th>\n",
       "      <td>0.038076</td>\n",
       "      <td>0.050680</td>\n",
       "      <td>0.061696</td>\n",
       "      <td>0.021872</td>\n",
       "      <td>-0.044223</td>\n",
       "      <td>-0.034821</td>\n",
       "      <td>-0.043401</td>\n",
       "      <td>-0.002592</td>\n",
       "      <td>0.019907</td>\n",
       "      <td>-0.017646</td>\n",
       "      <td>209.217098</td>\n",
       "    </tr>\n",
       "    <tr>\n",
       "      <th>1</th>\n",
       "      <td>-0.001882</td>\n",
       "      <td>-0.044642</td>\n",
       "      <td>-0.051474</td>\n",
       "      <td>-0.026328</td>\n",
       "      <td>-0.008449</td>\n",
       "      <td>-0.019163</td>\n",
       "      <td>0.074412</td>\n",
       "      <td>-0.039493</td>\n",
       "      <td>-0.068332</td>\n",
       "      <td>-0.092204</td>\n",
       "      <td>89.055554</td>\n",
       "    </tr>\n",
       "    <tr>\n",
       "      <th>2</th>\n",
       "      <td>0.085299</td>\n",
       "      <td>0.050680</td>\n",
       "      <td>0.044451</td>\n",
       "      <td>-0.005670</td>\n",
       "      <td>-0.045599</td>\n",
       "      <td>-0.034194</td>\n",
       "      <td>-0.032356</td>\n",
       "      <td>-0.002592</td>\n",
       "      <td>0.002861</td>\n",
       "      <td>-0.025930</td>\n",
       "      <td>199.414439</td>\n",
       "    </tr>\n",
       "    <tr>\n",
       "      <th>3</th>\n",
       "      <td>-0.089063</td>\n",
       "      <td>-0.044642</td>\n",
       "      <td>-0.011595</td>\n",
       "      <td>-0.036656</td>\n",
       "      <td>0.012191</td>\n",
       "      <td>0.024991</td>\n",
       "      <td>-0.036038</td>\n",
       "      <td>0.034309</td>\n",
       "      <td>0.022688</td>\n",
       "      <td>-0.009362</td>\n",
       "      <td>169.641246</td>\n",
       "    </tr>\n",
       "    <tr>\n",
       "      <th>4</th>\n",
       "      <td>0.005383</td>\n",
       "      <td>-0.044642</td>\n",
       "      <td>-0.036385</td>\n",
       "      <td>0.021872</td>\n",
       "      <td>0.003935</td>\n",
       "      <td>0.015596</td>\n",
       "      <td>0.008142</td>\n",
       "      <td>-0.002592</td>\n",
       "      <td>-0.031988</td>\n",
       "      <td>-0.046641</td>\n",
       "      <td>114.535943</td>\n",
       "    </tr>\n",
       "    <tr>\n",
       "      <th>...</th>\n",
       "      <td>...</td>\n",
       "      <td>...</td>\n",
       "      <td>...</td>\n",
       "      <td>...</td>\n",
       "      <td>...</td>\n",
       "      <td>...</td>\n",
       "      <td>...</td>\n",
       "      <td>...</td>\n",
       "      <td>...</td>\n",
       "      <td>...</td>\n",
       "      <td>...</td>\n",
       "    </tr>\n",
       "    <tr>\n",
       "      <th>437</th>\n",
       "      <td>0.041708</td>\n",
       "      <td>0.050680</td>\n",
       "      <td>0.019662</td>\n",
       "      <td>0.059744</td>\n",
       "      <td>-0.005697</td>\n",
       "      <td>-0.002566</td>\n",
       "      <td>-0.028674</td>\n",
       "      <td>-0.002592</td>\n",
       "      <td>0.031193</td>\n",
       "      <td>0.007207</td>\n",
       "      <td>221.892381</td>\n",
       "    </tr>\n",
       "    <tr>\n",
       "      <th>438</th>\n",
       "      <td>-0.005515</td>\n",
       "      <td>0.050680</td>\n",
       "      <td>-0.015906</td>\n",
       "      <td>-0.067642</td>\n",
       "      <td>0.049341</td>\n",
       "      <td>0.079165</td>\n",
       "      <td>-0.028674</td>\n",
       "      <td>0.034309</td>\n",
       "      <td>-0.018114</td>\n",
       "      <td>0.044485</td>\n",
       "      <td>121.899325</td>\n",
       "    </tr>\n",
       "    <tr>\n",
       "      <th>439</th>\n",
       "      <td>0.041708</td>\n",
       "      <td>0.050680</td>\n",
       "      <td>-0.015906</td>\n",
       "      <td>0.017293</td>\n",
       "      <td>-0.037344</td>\n",
       "      <td>-0.013840</td>\n",
       "      <td>-0.024993</td>\n",
       "      <td>-0.011080</td>\n",
       "      <td>-0.046883</td>\n",
       "      <td>0.015491</td>\n",
       "      <td>116.549395</td>\n",
       "    </tr>\n",
       "    <tr>\n",
       "      <th>440</th>\n",
       "      <td>-0.045472</td>\n",
       "      <td>-0.044642</td>\n",
       "      <td>0.039062</td>\n",
       "      <td>0.001215</td>\n",
       "      <td>0.016318</td>\n",
       "      <td>0.015283</td>\n",
       "      <td>-0.028674</td>\n",
       "      <td>0.026560</td>\n",
       "      <td>0.044529</td>\n",
       "      <td>-0.025930</td>\n",
       "      <td>215.583224</td>\n",
       "    </tr>\n",
       "    <tr>\n",
       "      <th>441</th>\n",
       "      <td>-0.045472</td>\n",
       "      <td>-0.044642</td>\n",
       "      <td>-0.073030</td>\n",
       "      <td>-0.081413</td>\n",
       "      <td>0.083740</td>\n",
       "      <td>0.027809</td>\n",
       "      <td>0.173816</td>\n",
       "      <td>-0.039493</td>\n",
       "      <td>-0.004222</td>\n",
       "      <td>0.003064</td>\n",
       "      <td>115.245402</td>\n",
       "    </tr>\n",
       "  </tbody>\n",
       "</table>\n",
       "<p>442 rows × 11 columns</p>\n",
       "</div>"
      ]
     },
     "execution_count": 19,
     "metadata": {},
     "output_type": "execute_result"
    }
   ],
   "execution_count": 19
  },
  {
   "metadata": {},
   "cell_type": "markdown",
   "source": "Check model server status",
   "id": "f43bf3425f258d08"
  },
  {
   "metadata": {
    "ExecuteTime": {
     "end_time": "2025-05-15T12:14:01.957231Z",
     "start_time": "2025-05-15T12:14:01.942250Z"
    }
   },
   "cell_type": "code",
   "source": [
    "%%skip $skip_inference.value\n",
    "\n",
    "response = requests.post(f\"{model_server_url}/v2/repository/index\", json={})\n",
    "pretty_json = json.dumps(response.json(), indent=4)\n",
    "print(pretty_json)"
   ],
   "id": "f7160c0499e45abc",
   "outputs": [
    {
     "name": "stdout",
     "output_type": "stream",
     "text": [
      "[\n",
      "    {\n",
      "        \"name\": \"diabetes-model\",\n",
      "        \"state\": \"READY\",\n",
      "        \"reason\": \"\"\n",
      "    }\n",
      "]\n"
     ]
    }
   ],
   "execution_count": 20
  },
  {
   "metadata": {},
   "cell_type": "markdown",
   "source": "Force a model reload with latest version",
   "id": "a7f6a5fe853f9458"
  },
  {
   "metadata": {},
   "cell_type": "markdown",
   "source": "Force a model reload on model server",
   "id": "c3a610a86941f1b0"
  },
  {
   "metadata": {
    "ExecuteTime": {
     "end_time": "2025-05-15T12:14:02.123321Z",
     "start_time": "2025-05-15T12:14:01.991129Z"
    }
   },
   "cell_type": "code",
   "source": [
    "%%skip $skip_inference.value\n",
    "\n",
    "response = requests.post(\n",
    "            f\"{model_server_url}/v2/repository/models/diabetes-model/load\",\n",
    "            headers={\"Content-Type\": \"application/json\"},\n",
    "            timeout=10\n",
    "        )\n",
    "response.raise_for_status()\n"
   ],
   "id": "db1f3f7fb6aafc4a",
   "outputs": [],
   "execution_count": 21
  }
 ],
 "metadata": {
  "kernelspec": {
   "display_name": "Python 3 (ipykernel)",
   "language": "python",
   "name": "python3"
  },
  "language_info": {
   "codemirror_mode": {
    "name": "ipython",
    "version": 3
   },
   "file_extension": ".py",
   "mimetype": "text/x-python",
   "name": "python",
   "nbconvert_exporter": "python",
   "pygments_lexer": "ipython3",
   "version": "3.10.16"
  }
 },
 "nbformat": 4,
 "nbformat_minor": 5
}
